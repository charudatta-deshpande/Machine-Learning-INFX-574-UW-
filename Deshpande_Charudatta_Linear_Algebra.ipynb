{
 "cells": [
  {
   "cell_type": "markdown",
   "metadata": {
    "ein.tags": [
     "worksheet-0"
    ],
    "slideshow": {
     "slide_type": "-"
    }
   },
   "source": [
    "# Linear algebra\n",
    "\n",
    "This is a voluntary problem set that helps you to learn linear algebra (and the related numpy commands.)  Consult Greene \"Econometric Analysis\" Appendix A when solving these problems.\n",
    "\n",
    "If handed in (and solved correctly ;-), it gives you 5 credits.\n",
    "\n"
   ]
  },
  {
   "cell_type": "code",
   "execution_count": 61,
   "metadata": {
    "autoscroll": "json-false",
    "collapsed": true,
    "ein.tags": [
     "worksheet-0"
    ],
    "slideshow": {
     "slide_type": "-"
    }
   },
   "outputs": [],
   "source": [
    "###################################################################### \n",
    "### Student Name - Charudatta Deshpande                            ###\n",
    "###                                                                ###\n",
    "### Collaborators - Ram Ganesan, Charles Hemstreet, Mehdi Muntazir ###\n",
    "###                                                                ###\n",
    "######################################################################\n",
    "### Import required libraries.                                       # \n",
    "######################################################################\n",
    "###\n",
    "import numpy as np\n",
    "import scipy as sp\n",
    "from scipy import linalg\n",
    "import pandas as pd\n",
    "import math as mt\n",
    "from numpy.linalg import matrix_rank"
   ]
  },
  {
   "cell_type": "markdown",
   "metadata": {
    "ein.tags": [
     "worksheet-0"
    ],
    "slideshow": {
     "slide_type": "-"
    }
   },
   "source": [
    "## 1 Matrix multiplication\n",
    "* create the following matrices:\n",
    "a = [ 1 2 3 4], b = [5 6 7 8 ]'\n",
    "(note: b includes the transposition sign)\n",
    "* compute the following matrix products $a \\cdot b$ and $a' \\cdot b'$"
   ]
  },
  {
   "cell_type": "code",
   "execution_count": 62,
   "metadata": {
    "autoscroll": "json-false",
    "ein.tags": [
     "worksheet-0"
    ],
    "slideshow": {
     "slide_type": "-"
    }
   },
   "outputs": [
    {
     "name": "stdout",
     "output_type": "stream",
     "text": [
      "[[1 2 3 4]]\n",
      "[[5]\n",
      " [6]\n",
      " [7]\n",
      " [8]]\n",
      "a⋅b is equal to :  [[70]]\n",
      "a′⋅b′ is equal to : \n",
      " [[ 5  6  7  8]\n",
      " [10 12 14 16]\n",
      " [15 18 21 24]\n",
      " [20 24 28 32]]\n"
     ]
    }
   ],
   "source": [
    "#\n",
    "#Input the matrices. \n",
    "#\n",
    "a=np.matrix([[1,2,3,4]])\n",
    "b=np.matrix([[5],[6],[7],[8]])\n",
    "print(a)\n",
    "print(b) \n",
    "#\n",
    "# Calculate the dot product a⋅b\n",
    "#\n",
    "c = np.dot(a,b)\n",
    "print('a⋅b is equal to : ', c)\n",
    "#\n",
    "# Calculate the dot product a′⋅b′\n",
    "#\n",
    "a_dash = a.transpose()\n",
    "b_dash = b.transpose()\n",
    "d = np.dot(a_dash,b_dash)\n",
    "print('a′⋅b′ is equal to : \\n', d)\n"
   ]
  },
  {
   "cell_type": "markdown",
   "metadata": {
    "ein.tags": [
     "worksheet-0"
    ],
    "slideshow": {
     "slide_type": "-"
    }
   },
   "source": [
    "## 2 Linear (in)dependence\n",
    "Consider three vectors:\n",
    "a = [1 2 3 4],\n",
    "b = [5 6 7 8] and\n",
    "c = [9 10 11 12]\n",
    "\n",
    "* are these vectors linearly independent?  Calculate the rank, a related determinant, and show how they are related/unrelated"
   ]
  },
  {
   "cell_type": "code",
   "execution_count": 63,
   "metadata": {
    "autoscroll": "json-false",
    "ein.tags": [
     "worksheet-0"
    ],
    "slideshow": {
     "slide_type": "-"
    }
   },
   "outputs": [
    {
     "name": "stdout",
     "output_type": "stream",
     "text": [
      "[[ 1  2  3  4]\n",
      " [ 5  6  7  8]\n",
      " [ 9 10 11 12]]\n",
      "Matrix X rank is:  2\n",
      "[  2.54368356e+01   1.72261225e+00   4.20733283e-16]\n",
      "Matrix X rank using second methos is:  2\n"
     ]
    }
   ],
   "source": [
    "#\n",
    "# Input the matrices. \n",
    "#\n",
    "# This is about determinant. \n",
    "# If the matrices can be described in terms of each other, they are dependent. \n",
    "# else they are independent. \n",
    "# Create a single matrix out of 3 vectors. Calculate rank. \n",
    "# If rank is greater than 3 (number of rows), these vectors are independent. \n",
    "#\n",
    "a = np.matrix([[1,2,3,4]])\n",
    "b = np.matrix([[5,6,7,8]])\n",
    "c = np.matrix([[9,10,11,12]])\n",
    "X = np.row_stack([a, b, c])\n",
    "print(X)\n",
    "#\n",
    "# Method 1 to calculate rank\n",
    "#\n",
    "print('Matrix X rank is: ', matrix_rank(X))\n",
    "#\n",
    "# Method 2 to calculate rank\n",
    "#\n",
    "TOLERANCE = 1e-14\n",
    "U, s, V = np.linalg.svd(X)\n",
    "print(s)\n",
    "print('Matrix X rank using second methos is: ', np.sum(s > TOLERANCE))\n",
    "\n"
   ]
  },
  {
   "cell_type": "code",
   "execution_count": 64,
   "metadata": {
    "collapsed": true
   },
   "outputs": [],
   "source": [
    "## Explanation of Q 2. \n",
    "## The rank is 2 and number of rows are 3. \n",
    "## The number of rows is greater than the rank, so these vectors are \n",
    "## not independent (are dependent). \n",
    "## This means that one vector can be defined as a linear combination of the \n",
    "## other two vectors."
   ]
  },
  {
   "cell_type": "markdown",
   "metadata": {
    "ein.tags": [
     "worksheet-0"
    ],
    "slideshow": {
     "slide_type": "-"
    }
   },
   "source": [
    "## 3 Find the inverses of the following matrices:\n",
    "\n",
    "\n",
    "A = [ <br/>\n",
    "    1 2 3 4 <br/>\n",
    "5 6 7 8 <br/>\n",
    "-1 10 11 12 <br/>\n",
    "13 14 15 17 ],\n",
    "\n",
    "B = [ <br/>\n",
    "    1 0 0 <br/>\n",
    "     0 4 0 <br/>\n",
    "     0 0 16]\n",
    "\n",
    "and\n",
    "\n",
    "C = [ <br/>\n",
    "    1 2 3 4 <br/>\n",
    "      5 6 7 8 <br/>\n",
    "      9 10 11 12 <br/>\n",
    "      13 14 15 17 ]\n",
    "\n",
    "* Check the results by left- and right multiplication of the inverse.  Explain."
   ]
  },
  {
   "cell_type": "code",
   "execution_count": 65,
   "metadata": {
    "autoscroll": "json-false",
    "ein.tags": [
     "worksheet-0"
    ],
    "slideshow": {
     "slide_type": "-"
    }
   },
   "outputs": [
    {
     "name": "stdout",
     "output_type": "stream",
     "text": [
      "A inverse is equal to : \n",
      " [[ -1.00000000e-01   2.00000000e-01  -1.00000000e-01   2.73285668e-16]\n",
      " [  4.50000000e-01  -2.65000000e+00   2.00000000e-01   1.00000000e+00]\n",
      " [ -2.60000000e+00   5.70000000e+00  -1.00000000e-01  -2.00000000e+00]\n",
      " [  2.00000000e+00  -3.00000000e+00  -7.40148683e-17   1.00000000e+00]]\n",
      "B inverse is equal to : \n",
      " [[ 1.      0.      0.    ]\n",
      " [ 0.      0.25    0.    ]\n",
      " [ 0.      0.      0.0625]]\n",
      "C inverse is equal to : \n",
      " [[ -1.54070514e+15   3.08141027e+15  -1.54070514e+15  -4.70000000e-01]\n",
      " [  3.08141027e+15  -6.16282054e+15   3.08141027e+15   1.94000000e+00]\n",
      " [ -1.54070514e+15   3.08141027e+15  -1.54070514e+15  -2.47000000e+00]\n",
      " [  1.15789474e+00  -1.31578947e+00  -8.42105263e-01   1.00000000e+00]]\n",
      "A.A_inverse is equal to : \n",
      " [[  1.00000000e+00   0.00000000e+00   0.00000000e+00   0.00000000e+00]\n",
      " [  0.00000000e+00   1.00000000e+00   0.00000000e+00   0.00000000e+00]\n",
      " [  0.00000000e+00   7.10542736e-15   1.00000000e+00  -3.55271368e-15]\n",
      " [  0.00000000e+00   0.00000000e+00   0.00000000e+00   1.00000000e+00]]\n",
      "A_inverse.A is equal to : \n",
      " [[  1.00000000e+00   1.77635684e-15   1.77635684e-15   2.22044605e-15]\n",
      " [ -1.77635684e-15   1.00000000e+00  -1.77635684e-15  -2.66453526e-15]\n",
      " [  1.33226763e-15   8.88178420e-16   1.00000000e+00   1.77635684e-15]\n",
      " [  4.44089210e-16   1.77635684e-15   1.77635684e-15   1.00000000e+00]]\n",
      "B.B_inverse is equal to : \n",
      " [[ 1.  0.  0.]\n",
      " [ 0.  1.  0.]\n",
      " [ 0.  0.  1.]]\n",
      "B_inverse.B is equal to : \n",
      " [[ 1.  0.  0.]\n",
      " [ 0.  1.  0.]\n",
      " [ 0.  0.  1.]]\n",
      "C.C_inverse is equal to : \n",
      " [[  1.   0.   1.   0.]\n",
      " [ -4.   0.  -4.   0.]\n",
      " [ -4.   8.   0.   0.]\n",
      " [  0.  16.   0.   1.]]\n",
      "C_inverse.C is equal to : \n",
      " [[  8.00000000e+00   8.00000000e+00   8.00000000e+00   1.20000000e+01]\n",
      " [ -8.00000000e+00  -1.60000000e+01  -8.00000000e+00  -1.60000000e+01]\n",
      " [  4.00000000e+00   4.00000000e+00   8.00000000e+00   8.00000000e+00]\n",
      " [ -8.88178420e-16  -1.77635684e-15  -1.77635684e-15   1.00000000e+00]]\n"
     ]
    }
   ],
   "source": [
    "#\n",
    "# Input the matrices. \n",
    "#\n",
    "A=np.matrix([[1,2,3,4],[5,6,7,8],[-1,10,11,12],[13,14,15,17]])\n",
    "B=np.matrix([[1,0,0],[0,4,0],[0,0,16]])\n",
    "C=np.matrix([[1,2,3,4],[5,6,7,8],[9,10,11,12],[13,14,15,17]])\n",
    "#\n",
    "# Calculate inverse matrices \n",
    "#\n",
    "A_inverse = np.linalg.inv(A)\n",
    "B_inverse = np.linalg.inv(B)\n",
    "C_inverse = np.linalg.inv(C)\n",
    "print('A inverse is equal to : \\n', A_inverse)\n",
    "print('B inverse is equal to : \\n', B_inverse)\n",
    "print('C inverse is equal to : \\n', C_inverse)\n",
    "#\n",
    "# Calculate dot products of original and inverse matrices \n",
    "#\n",
    "print('A.A_inverse is equal to : \\n', np.dot(A, A_inverse))\n",
    "print('A_inverse.A is equal to : \\n', np.dot(A_inverse, A))\n",
    "print('B.B_inverse is equal to : \\n', np.dot(B, B_inverse))\n",
    "print('B_inverse.B is equal to : \\n', np.dot(B_inverse, B))\n",
    "print('C.C_inverse is equal to : \\n', np.dot(C, C_inverse))\n",
    "print('C_inverse.C is equal to : \\n', np.dot(C_inverse, C))\n"
   ]
  },
  {
   "cell_type": "code",
   "execution_count": 66,
   "metadata": {
    "collapsed": true
   },
   "outputs": [],
   "source": [
    "## Explanation of Q 3. \n",
    "## Dot product of a matrix and its inverse should be an identity matrix irrespective\n",
    "## of the order of the multiplication. \n",
    "## For A, A.A_inverse and A_inverse.A are very close to being an identity matrix. \n",
    "## However, the identity matrices are not perfect. \n",
    "## For B, B.B_inverse and B_inverse.B are perfect identity matrices. \n",
    "## For C, C.C_inverse and C_inverse.C are not identity matrices. \n",
    "## This indicates that C is not an invertible matrix. \n",
    "\n"
   ]
  },
  {
   "cell_type": "markdown",
   "metadata": {
    "ein.tags": [
     "worksheet-0"
    ],
    "slideshow": {
     "slide_type": "-"
    }
   },
   "source": [
    "## 4 Characteristic roots\n",
    "* Find the roots (eigenvalues) of the matrices A, B, C above.\n",
    "* Calculate the condition numbers of these matrices in two ways: the default numpy way, and in this way as it is explained in Greene (2003, page 829)\n",
    "* Explain the results"
   ]
  },
  {
   "cell_type": "code",
   "execution_count": 67,
   "metadata": {
    "autoscroll": "json-false",
    "ein.tags": [
     "worksheet-0"
    ],
    "slideshow": {
     "slide_type": "-"
    }
   },
   "outputs": [
    {
     "name": "stdout",
     "output_type": "stream",
     "text": [
      "eigenvalues for A: \n",
      " [ 35.83449756   1.34371891   1.6853005    0.49291597]\n",
      "eigenvalues for B: \n",
      " [  1.   4.  16.]\n",
      "eigenvalues for C: \n",
      " [  3.66727818e+01   2.00000000e+00   2.08470091e-15   3.27218155e-01]\n",
      "condition number for A using Numpy method: \n",
      " 299.050204082\n",
      "condition number for B using Numpy method: \n",
      " 16.0\n",
      "condition number for C using Numpy method: \n",
      " 7.60469682786e+16\n",
      "condition number for A using Greene method: \n",
      " 8.5263707646\n",
      "condition number for A using Greene method: \n",
      " 4.0\n",
      "condition number for A using Greene method: \n",
      " 132632528.659\n"
     ]
    }
   ],
   "source": [
    "#\n",
    "#Calculate eigenvalues for A, B and C. \n",
    "#\n",
    "eigvals_A = np.linalg.eigvals(A)\n",
    "eigvals_B = np.linalg.eigvals(B)\n",
    "eigvals_C = np.linalg.eigvals(C)\n",
    "eigvals_A = np.absolute(eigvals_A)\n",
    "eigvals_B = np.absolute(eigvals_B)\n",
    "eigvals_C = np.absolute(eigvals_C)\n",
    "#\n",
    "print('eigenvalues for A: \\n', eigvals_A)\n",
    "print('eigenvalues for B: \\n', eigvals_B)\n",
    "print('eigenvalues for C: \\n', eigvals_C)\n",
    "#\n",
    "#Calculate condition numbers for A, B and C - the default numpy way. \n",
    "#\n",
    "print('condition number for A using Numpy method: \\n', np.linalg.cond(A))\n",
    "print('condition number for B using Numpy method: \\n', np.linalg.cond(B))\n",
    "print('condition number for C using Numpy method: \\n', np.linalg.cond(C))\n",
    "#\n",
    "#Calculate condition numbers for A, B and C - as explained in Greene (2003, page 829)\n",
    "#\n",
    "condition_number_A = np.sqrt(eigvals_A.max() / eigvals_A.min())\n",
    "print('condition number for A using Greene method: \\n', condition_number_A)\n",
    "condition_number_B = np.sqrt(eigvals_B.max() / eigvals_B.min())\n",
    "print('condition number for A using Greene method: \\n', condition_number_B)\n",
    "condition_number_C = np.sqrt(eigvals_C.max() / eigvals_C.min())\n",
    "print('condition number for A using Greene method: \\n', condition_number_C)"
   ]
  },
  {
   "cell_type": "code",
   "execution_count": 68,
   "metadata": {},
   "outputs": [],
   "source": [
    "# Explanation of Q 4 - \n",
    "# The condition numbers using Numpy method and Greene method \n",
    "# do not match. This could be mostly due to an error I made in the \n",
    "# calculation of Eigenvalues, or use of an incorrect option in \n",
    "# calculation of condition numbers using Greene method.  \n",
    "# I understood how the Greene method is used, however I was getting\n",
    "# negative eigenvalues, and using those in square root function was \n",
    "# returning an invalid calculation. So I had to use absolute values\n",
    "# and I believe I missed something there that is giving me wrong\n",
    "# condition numbers using Greene method. "
   ]
  }
 ],
 "metadata": {
  "kernelspec": {
   "display_name": "Python 3",
   "language": "python",
   "name": "python3"
  },
  "language_info": {
   "codemirror_mode": {
    "name": "ipython",
    "version": 3
   },
   "file_extension": ".py",
   "mimetype": "text/x-python",
   "name": "python",
   "nbconvert_exporter": "python",
   "pygments_lexer": "ipython3",
   "version": "3.6.3"
  },
  "name": "01_linear_algebra.ipynb"
 },
 "nbformat": 4,
 "nbformat_minor": 2
}
