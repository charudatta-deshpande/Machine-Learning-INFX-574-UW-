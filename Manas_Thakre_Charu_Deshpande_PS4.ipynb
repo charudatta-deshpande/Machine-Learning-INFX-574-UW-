{
 "cells": [
  {
   "cell_type": "code",
   "execution_count": 1,
   "metadata": {},
   "outputs": [
    {
     "name": "stderr",
     "output_type": "stream",
     "text": [
      "C:\\Users\\deshc\\Anaconda3\\lib\\site-packages\\sklearn\\cross_validation.py:41: DeprecationWarning: This module was deprecated in version 0.18 in favor of the model_selection module into which all the refactored classes and functions are moved. Also note that the interface of the new CV iterators are different from that of this module. This module will be removed in 0.20.\n",
      "  \"This module will be removed in 0.20.\", DeprecationWarning)\n"
     ]
    },
    {
     "name": "stdout",
     "output_type": "stream",
     "text": [
      "[nltk_data] Downloading package punkt to\n",
      "[nltk_data]     C:\\Users\\deshc\\AppData\\Roaming\\nltk_data...\n",
      "[nltk_data]   Package punkt is already up-to-date!\n"
     ]
    }
   ],
   "source": [
    "#\n",
    "# Student Names - Charudatta Deshpande, Manas Thakre\n",
    "#\n",
    "#############################################\n",
    "# Import required libraries.                # \n",
    "#############################################\n",
    "#\n",
    "import pandas as pd\n",
    "import numpy as np\n",
    "import sklearn\n",
    "from sklearn.model_selection import train_test_split\n",
    "from sklearn.feature_extraction.text import CountVectorizer\n",
    "from sklearn.naive_bayes import MultinomialNB\n",
    "from sklearn.pipeline import Pipeline\n",
    "from sklearn.cross_validation import KFold\n",
    "from sklearn.neighbors import KNeighborsClassifier\n",
    "from sklearn.metrics import confusion_matrix, f1_score\n",
    "import os as os  \n",
    "import random\n",
    "from nltk.tokenize import word_tokenize\n",
    "from nltk.corpus import stopwords\n",
    "from sklearn import tree\n",
    "from nltk.stem import PorterStemmer\n",
    "from sklearn.metrics import roc_curve, auc\n",
    "from sklearn.preprocessing import label_binarize\n",
    "from sklearn.metrics import accuracy_score\n",
    "from sklearn import metrics\n",
    "import matplotlib.pyplot as plt\n",
    "import nltk\n",
    "nltk.download('punkt')\n",
    "os.chdir('C:\\\\Users\\deshc\\Desktop\\INFX 574 Data Science 2\\Problem Set 4')"
   ]
  },
  {
   "cell_type": "code",
   "execution_count": 2,
   "metadata": {},
   "outputs": [
    {
     "data": {
      "text/html": [
       "<div>\n",
       "<style>\n",
       "    .dataframe thead tr:only-child th {\n",
       "        text-align: right;\n",
       "    }\n",
       "\n",
       "    .dataframe thead th {\n",
       "        text-align: left;\n",
       "    }\n",
       "\n",
       "    .dataframe tbody tr th {\n",
       "        vertical-align: top;\n",
       "    }\n",
       "</style>\n",
       "<table border=\"1\" class=\"dataframe\">\n",
       "  <thead>\n",
       "    <tr style=\"text-align: right;\">\n",
       "      <th></th>\n",
       "      <th>Category</th>\n",
       "      <th>Subject</th>\n",
       "      <th>multimedia</th>\n",
       "      <th>HTML</th>\n",
       "    </tr>\n",
       "  </thead>\n",
       "  <tbody>\n",
       "    <tr>\n",
       "      <th>0</th>\n",
       "      <td>Ham</td>\n",
       "      <td>Account Balance Alert</td>\n",
       "      <td>No</td>\n",
       "      <td>No</td>\n",
       "    </tr>\n",
       "    <tr>\n",
       "      <th>1</th>\n",
       "      <td>Ham</td>\n",
       "      <td>Your SBI Card ELITE Monthly Statement -Feb</td>\n",
       "      <td>Yes</td>\n",
       "      <td>Yes</td>\n",
       "    </tr>\n",
       "    <tr>\n",
       "      <th>2</th>\n",
       "      <td>Ham</td>\n",
       "      <td>Reset your password</td>\n",
       "      <td>Yes</td>\n",
       "      <td>No</td>\n",
       "    </tr>\n",
       "    <tr>\n",
       "      <th>3</th>\n",
       "      <td>Ham</td>\n",
       "      <td>File your Income Tax Return for AY 2016-17</td>\n",
       "      <td>No</td>\n",
       "      <td>No</td>\n",
       "    </tr>\n",
       "    <tr>\n",
       "      <th>4</th>\n",
       "      <td>Ham</td>\n",
       "      <td>GST Invoice For the Month of Jan-2018 for XXXX...</td>\n",
       "      <td>Yes</td>\n",
       "      <td>Yes</td>\n",
       "    </tr>\n",
       "  </tbody>\n",
       "</table>\n",
       "</div>"
      ],
      "text/plain": [
       "  Category                                            Subject multimedia HTML\n",
       "0      Ham                              Account Balance Alert         No   No\n",
       "1      Ham         Your SBI Card ELITE Monthly Statement -Feb        Yes  Yes\n",
       "2      Ham                                Reset your password        Yes   No\n",
       "3      Ham         File your Income Tax Return for AY 2016-17         No   No\n",
       "4      Ham  GST Invoice For the Month of Jan-2018 for XXXX...        Yes  Yes"
      ]
     },
     "execution_count": 2,
     "metadata": {},
     "output_type": "execute_result"
    }
   ],
   "source": [
    "#\n",
    "#############################################\n",
    "# Read email data file.                     # \n",
    "#############################################\n",
    "#\n",
    "data = pd.read_excel('data.xlsx')\n",
    "data.head()"
   ]
  },
  {
   "cell_type": "code",
   "execution_count": 11,
   "metadata": {
    "collapsed": true
   },
   "outputs": [],
   "source": [
    "#\n",
    "#############################################\n",
    "# Randomize Data                            # \n",
    "#############################################\n",
    "#\n",
    "data = data.reindex(np.random.permutation(data.index))"
   ]
  },
  {
   "cell_type": "code",
   "execution_count": 12,
   "metadata": {},
   "outputs": [
    {
     "name": "stdout",
     "output_type": "stream",
     "text": [
      "Training Data Counts: \n",
      " Spam    63\n",
      "Ham     62\n",
      "Name: Category, dtype: int64\n",
      "Test Data Counts: \n",
      " Spam    28\n",
      "Ham     26\n",
      "Name: Category, dtype: int64\n"
     ]
    }
   ],
   "source": [
    "# \n",
    "# Now we create test data and training data\n",
    "# Training data size = 70% \n",
    "# \n",
    "x_train , x_test = train_test_split(data,test_size=0.3) \n",
    "#\n",
    "# Analyze how many spam and ham values exist in training and testing data\n",
    "#\n",
    "print('Training Data Counts: \\n', x_train['Category'].value_counts())\n",
    "print('Test Data Counts: \\n', x_test['Category'].value_counts())"
   ]
  },
  {
   "cell_type": "code",
   "execution_count": 13,
   "metadata": {},
   "outputs": [
    {
     "data": {
      "text/plain": [
       "<bound method spmatrix.get_shape of <125x583 sparse matrix of type '<class 'numpy.int64'>'\n",
       "\twith 890 stored elements in Compressed Sparse Row format>>"
      ]
     },
     "execution_count": 13,
     "metadata": {},
     "output_type": "execute_result"
    }
   ],
   "source": [
    "#\n",
    "# Using CountVectorizer function, split text data into vectors \n",
    "#\n",
    "count_vectorizer = CountVectorizer()\n",
    "vectored_text = count_vectorizer.fit_transform(x_train['Subject'].values)\n",
    "vectored_text.get_shape"
   ]
  },
  {
   "cell_type": "code",
   "execution_count": 14,
   "metadata": {},
   "outputs": [
    {
     "data": {
      "text/plain": [
       "array(['Ham', 'Spam'],\n",
       "      dtype='<U4')"
      ]
     },
     "execution_count": 14,
     "metadata": {},
     "output_type": "execute_result"
    }
   ],
   "source": [
    "#\n",
    "# Explore First option \n",
    "# Use Naive Bayes, fit an example and test results. \n",
    "#\n",
    "example_naive_bayes = MultinomialNB()\n",
    "targets = x_train['Category'].values\n",
    "example_naive_bayes.fit(vectored_text, targets)\n",
    "examples = ['Hiring for Analytics Professionals @ Novartis, Hyderabad', \n",
    "            \"Trend Report: New York Fashion Week'18\"]\n",
    "example_counts = count_vectorizer.transform(examples)\n",
    "predictions_naive_bayes = example_naive_bayes.predict(example_counts)\n",
    "predictions_naive_bayes\n",
    "#\n",
    "# End of Sample testing\n",
    "#"
   ]
  },
  {
   "cell_type": "code",
   "execution_count": 15,
   "metadata": {
    "collapsed": true
   },
   "outputs": [],
   "source": [
    "#\n",
    "#################        METHOD 1 - Naive Bayes      ######################\n",
    "#\n",
    "# Using Pipeline, combine outputs from CountVectorizer and MultinomialNB.  \n",
    "#\n",
    "naive_bayes = Pipeline([\n",
    "    ('vectorizer',  CountVectorizer()),\n",
    "    ('classifier',  MultinomialNB()) ])"
   ]
  },
  {
   "cell_type": "code",
   "execution_count": 16,
   "metadata": {
    "collapsed": true
   },
   "outputs": [],
   "source": [
    "#\n",
    "# Using K-fold sampling, train the naive_bayes model on training data  \n",
    "#\n",
    "k_fold_train = KFold(n=len(x_train), n_folds=6)\n",
    "for train_indices, test_indices in k_fold_train:\n",
    "    train_text = x_train.iloc[train_indices]['Subject'].values\n",
    "    train_y = x_train.iloc[train_indices]['Category'].values\n",
    "    naive_bayes.fit(train_text, train_y) "
   ]
  },
  {
   "cell_type": "code",
   "execution_count": 17,
   "metadata": {},
   "outputs": [
    {
     "name": "stdout",
     "output_type": "stream",
     "text": [
      "Total emails classified using Naive Bayes on test data:  54\n",
      "Accuracy using Naive Bayes on test data:  0.777777777778\n",
      "Confusion matrix for Naive Bayes on test data: \n",
      " [[21  5]\n",
      " [ 7 21]]\n"
     ]
    }
   ],
   "source": [
    "#\n",
    "# This code will predict the model developed above. \n",
    "# Define test data and store predictions\n",
    "#\n",
    "y = x_test['Category']\n",
    "y_test = x_test['Subject']\n",
    "predictions = naive_bayes.predict(y_test)\n",
    "confusion = confusion_matrix(y, predictions)\n",
    "accuracy = accuracy_score(y, predictions)\n",
    "print('Total emails classified using Naive Bayes on test data: ', len(x_test))\n",
    "print('Accuracy using Naive Bayes on test data: ', accuracy)\n",
    "print('Confusion matrix for Naive Bayes on test data: \\n', confusion)"
   ]
  },
  {
   "cell_type": "code",
   "execution_count": 18,
   "metadata": {},
   "outputs": [
    {
     "data": {
      "image/png": "[encoded data removed]",
      "text/plain": [
       "<matplotlib.figure.Figure at 0x2b5a9864668>"
      ]
     },
     "metadata": {},
     "output_type": "display_data"
    },
    {
     "name": "stdout",
     "output_type": "stream",
     "text": [
      "Calculated AUC for Naive Bayes model is:  0.778846153846\n"
     ]
    }
   ],
   "source": [
    "#\n",
    "# Binarize the output and predictions\n",
    "#\n",
    "y_binary = label_binarize(y, classes=['Ham', 'Spam'])\n",
    "predictions_binary = label_binarize(predictions, classes=['Ham', 'Spam'])\n",
    "false_positive_rate, true_positive_rate, thresholds = roc_curve(y_binary, predictions_binary)\n",
    "roc_auc = auc(false_positive_rate, true_positive_rate)\n",
    "#\n",
    "# Plot the ROC Curve\n",
    "#\n",
    "plt.title('ROC - Naive Bayes model')\n",
    "plt.plot(false_positive_rate, true_positive_rate, c='blue', label=('ROC Line for Spam/Ham output'))\n",
    "plt.legend(loc='lower right', prop={'size':8})\n",
    "plt.plot([0, 1], [0, 1], color='grey', lw=2, linestyle='--')\n",
    "plt.xlim([0.0, 1.0])\n",
    "plt.ylim([0.0, 1.05])\n",
    "plt.ylabel('True Positive Rate')\n",
    "plt.xlabel('False Positive Rate')\n",
    "plt.show()\n",
    "print('Calculated AUC for Naive Bayes model is: ', roc_auc)\n"
   ]
  },
  {
   "cell_type": "code",
   "execution_count": 20,
   "metadata": {},
   "outputs": [
    {
     "name": "stdout",
     "output_type": "stream",
     "text": [
      "Confusion matrix for Naive Bayes on test data: \n",
      " [[21  5]\n",
      " [ 7 21]]\n"
     ]
    },
    {
     "data": {
      "image/png": "[encoded data removed]",
      "text/plain": [
       "<matplotlib.figure.Figure at 0x2b5a985ef60>"
      ]
     },
     "metadata": {},
     "output_type": "display_data"
    }
   ],
   "source": [
    "#\n",
    "# Plot Confusion Matrix. \n",
    "#\n",
    "print('Confusion matrix for Naive Bayes on test data: \\n', confusion)\n",
    "plt.matshow(confusion)\n",
    "plt.title('Confusion matrix', y=1.08)\n",
    "plt.colorbar()\n",
    "plt.ylabel('True label')\n",
    "plt.xlabel('Predicted label')\n",
    "plt.show()"
   ]
  },
  {
   "cell_type": "code",
   "execution_count": 21,
   "metadata": {},
   "outputs": [
    {
     "data": {
      "text/plain": [
       "array(['Ham', 'Spam'], dtype=object)"
      ]
     },
     "execution_count": 21,
     "metadata": {},
     "output_type": "execute_result"
    }
   ],
   "source": [
    "#\n",
    "# Explore second option \n",
    "# Use decision trees, fit an example and test results. \n",
    "#\n",
    "example_decision_tree = tree.DecisionTreeClassifier()\n",
    "targets = x_train['Category'].values\n",
    "example_decision_tree.fit(vectored_text, targets)\n",
    "examples = ['Hiring for Analytics Professionals @ Novartis, Hyderabad', \n",
    "            \"Trend Report: New York Fashion Week'18\"]\n",
    "example_counts = count_vectorizer.transform(examples)\n",
    "predictions_tree = example_decision_tree.predict(example_counts)\n",
    "predictions_tree\n",
    "#\n",
    "# End of Sample testing\n",
    "#"
   ]
  },
  {
   "cell_type": "code",
   "execution_count": 22,
   "metadata": {
    "collapsed": true
   },
   "outputs": [],
   "source": [
    "#\n",
    "#################        METHOD 2 - Decision Tree      ######################\n",
    "#\n",
    "# Using Pipeline, combine outputs from CountVectorizer and tree.DecisionTreeClassifier.  \n",
    "#\n",
    "decision_tree = Pipeline([\n",
    "    ('vectorizer',  CountVectorizer()),\n",
    "    ('classifier',  tree.DecisionTreeClassifier())])"
   ]
  },
  {
   "cell_type": "code",
   "execution_count": 23,
   "metadata": {
    "collapsed": true
   },
   "outputs": [],
   "source": [
    "#\n",
    "# Using K-fold sampling, train the decision_tree model on training data  \n",
    "#\n",
    "k_fold_train = KFold(n=len(x_train), n_folds=5)\n",
    "for train_indices, test_indices in k_fold_train:\n",
    "    train_text = x_train.iloc[train_indices]['Subject'].values\n",
    "    train_y = x_train.iloc[train_indices]['Category'].values\n",
    "    decision_tree.fit(train_text, train_y) "
   ]
  },
  {
   "cell_type": "code",
   "execution_count": 24,
   "metadata": {},
   "outputs": [
    {
     "name": "stdout",
     "output_type": "stream",
     "text": [
      "Total emails classified using Decision Tree on test data:  54\n",
      "Accuracy using Decision Tree on test data:  0.648148148148\n",
      "Confusion matrix for Decision Tree on test data: \n",
      " [[24  2]\n",
      " [17 11]]\n"
     ]
    }
   ],
   "source": [
    "#\n",
    "# This code will predict the model developed above. \n",
    "# Define test data and store predictions\n",
    "#\n",
    "y = x_test['Category']\n",
    "y_test = x_test['Subject']\n",
    "predictions = decision_tree.predict(y_test)\n",
    "confusion = confusion_matrix(y, predictions)\n",
    "accuracy = accuracy_score(y, predictions)\n",
    "print('Total emails classified using Decision Tree on test data: ', len(x_test))\n",
    "print('Accuracy using Decision Tree on test data: ', accuracy)\n",
    "print('Confusion matrix for Decision Tree on test data: \\n', confusion)"
   ]
  },
  {
   "cell_type": "code",
   "execution_count": 25,
   "metadata": {},
   "outputs": [
    {
     "data": {
      "image/png": "[encoded data removed]",
      "text/plain": [
       "<matplotlib.figure.Figure at 0x2b5a9215630>"
      ]
     },
     "metadata": {},
     "output_type": "display_data"
    },
    {
     "name": "stdout",
     "output_type": "stream",
     "text": [
      "Calculated AUC for Decision Tree model is:  0.657967032967\n"
     ]
    }
   ],
   "source": [
    "#\n",
    "# Binarize the output and predictions\n",
    "#\n",
    "y_binary = label_binarize(y, classes=['Ham', 'Spam'])\n",
    "predictions_binary = label_binarize(predictions, classes=['Ham', 'Spam'])\n",
    "false_positive_rate, true_positive_rate, thresholds = roc_curve(y_binary, predictions_binary)\n",
    "roc_auc = auc(false_positive_rate, true_positive_rate)\n",
    "#\n",
    "# Plot the ROC Curve\n",
    "#\n",
    "plt.title('ROC - Decision Tree model')\n",
    "plt.plot(false_positive_rate, true_positive_rate, c='blue', label=('ROC Line for Spam/Ham output'))\n",
    "plt.legend(loc='lower right', prop={'size':8})\n",
    "plt.plot([0, 1], [0, 1], color='grey', lw=2, linestyle='--')\n",
    "plt.xlim([0.0, 1.0])\n",
    "plt.ylim([0.0, 1.05])\n",
    "plt.ylabel('True Positive Rate')\n",
    "plt.xlabel('False Positive Rate')\n",
    "plt.show()\n",
    "print('Calculated AUC for Decision Tree model is: ', roc_auc)"
   ]
  },
  {
   "cell_type": "code",
   "execution_count": 27,
   "metadata": {},
   "outputs": [
    {
     "name": "stdout",
     "output_type": "stream",
     "text": [
      "Confusion matrix for Decision Tree on test data: \n",
      " [[24  2]\n",
      " [17 11]]\n"
     ]
    },
    {
     "data": {
      "image/png": "[encoded data removed]",
      "text/plain": [
       "<matplotlib.figure.Figure at 0x2b5a99cdbe0>"
      ]
     },
     "metadata": {},
     "output_type": "display_data"
    }
   ],
   "source": [
    "#\n",
    "# Plot Confusion Matrix. \n",
    "#\n",
    "print('Confusion matrix for Decision Tree on test data: \\n', confusion)\n",
    "plt.matshow(confusion)\n",
    "plt.title('Confusion matrix', y=1.08)\n",
    "plt.colorbar()\n",
    "plt.ylabel('True label')\n",
    "plt.xlabel('Predicted label')\n",
    "plt.show()"
   ]
  },
  {
   "cell_type": "code",
   "execution_count": 28,
   "metadata": {},
   "outputs": [
    {
     "data": {
      "text/plain": [
       "array(['Ham', 'Spam'], dtype=object)"
      ]
     },
     "execution_count": 28,
     "metadata": {},
     "output_type": "execute_result"
    }
   ],
   "source": [
    "#\n",
    "# Explore third option \n",
    "# Use Nearest Neighbors, fit an example and test results. \n",
    "#\n",
    "example_knn = KNeighborsClassifier()\n",
    "targets = x_train['Category'].values\n",
    "example_knn.fit(vectored_text, targets)\n",
    "examples = ['Hiring for Analytics Professionals @ Novartis, Hyderabad', \n",
    "            \"Trend Report: New York Fashion Week'18\"]\n",
    "example_counts = count_vectorizer.transform(examples)\n",
    "predictions_knn = example_knn.predict(example_counts)\n",
    "predictions_knn\n",
    "#\n",
    "# End of Sample testing\n",
    "#"
   ]
  },
  {
   "cell_type": "code",
   "execution_count": 29,
   "metadata": {
    "collapsed": true
   },
   "outputs": [],
   "source": [
    "#\n",
    "#################        METHOD 3 - K Nearest Neighbors     ######################\n",
    "#\n",
    "# Using Pipeline, combine outputs from CountVectorizer and KNeighborsClassifier.  \n",
    "#\n",
    "supervised_knn = Pipeline([\n",
    "    ('vectorizer',  CountVectorizer()),\n",
    "    ('classifier',  KNeighborsClassifier())])"
   ]
  },
  {
   "cell_type": "code",
   "execution_count": 30,
   "metadata": {
    "collapsed": true
   },
   "outputs": [],
   "source": [
    "#\n",
    "# Using K-fold sampling, train the supervised_knn model on training data  \n",
    "#\n",
    "k_fold_train = KFold(n=len(x_train), n_folds=4)\n",
    "for train_indices, test_indices in k_fold_train:\n",
    "    train_text = x_train.iloc[train_indices]['Subject'].values\n",
    "    train_y = x_train.iloc[train_indices]['Category'].values\n",
    "    supervised_knn.fit(train_text, train_y) "
   ]
  },
  {
   "cell_type": "code",
   "execution_count": 31,
   "metadata": {},
   "outputs": [
    {
     "name": "stdout",
     "output_type": "stream",
     "text": [
      "Total emails classified using Supervised KNN on test data:  54\n",
      "Accuracy using Supervised KNN on test data:  0.574074074074\n",
      "Confusion matrix for Supervised KNN on test data: \n",
      " [[24  2]\n",
      " [21  7]]\n"
     ]
    }
   ],
   "source": [
    "#\n",
    "# This code will predict the model developed above. \n",
    "# Define test data and store predictions\n",
    "#\n",
    "y = x_test['Category']\n",
    "y_test = x_test['Subject']\n",
    "predictions = supervised_knn.predict(y_test)\n",
    "confusion = confusion_matrix(y, predictions)\n",
    "accuracy = accuracy_score(y, predictions)\n",
    "print('Total emails classified using Supervised KNN on test data: ', len(x_test))\n",
    "print('Accuracy using Supervised KNN on test data: ', accuracy)\n",
    "print('Confusion matrix for Supervised KNN on test data: \\n', confusion)"
   ]
  },
  {
   "cell_type": "code",
   "execution_count": 32,
   "metadata": {},
   "outputs": [
    {
     "data": {
      "image/png": "[encoded data removed]",
      "text/plain": [
       "<matplotlib.figure.Figure at 0x2b5a9b9f1d0>"
      ]
     },
     "metadata": {},
     "output_type": "display_data"
    },
    {
     "name": "stdout",
     "output_type": "stream",
     "text": [
      "Calculated AUC for Supervised KNN model is:  0.586538461538\n"
     ]
    }
   ],
   "source": [
    "#\n",
    "# Binarize the output and predictions\n",
    "#\n",
    "y_binary = label_binarize(y, classes=['Ham', 'Spam'])\n",
    "predictions_binary = label_binarize(predictions, classes=['Ham', 'Spam'])\n",
    "false_positive_rate, true_positive_rate, thresholds = roc_curve(y_binary, predictions_binary)\n",
    "roc_auc = auc(false_positive_rate, true_positive_rate)\n",
    "#\n",
    "# Plot the ROC Curve\n",
    "#\n",
    "plt.title('ROC - Supervised KNN model')\n",
    "plt.plot(false_positive_rate, true_positive_rate, c='blue', label=('ROC Line for Spam/Ham output'))\n",
    "plt.legend(loc='lower right', prop={'size':8})\n",
    "plt.plot([0, 1], [0, 1], color='grey', lw=2, linestyle='--')\n",
    "plt.xlim([0.0, 1.0])\n",
    "plt.ylim([0.0, 1.05])\n",
    "plt.ylabel('True Positive Rate')\n",
    "plt.xlabel('False Positive Rate')\n",
    "plt.show()\n",
    "print('Calculated AUC for Supervised KNN model is: ', roc_auc)"
   ]
  },
  {
   "cell_type": "code",
   "execution_count": 33,
   "metadata": {},
   "outputs": [
    {
     "name": "stdout",
     "output_type": "stream",
     "text": [
      "Confusion matrix for Supervised KNN on test data: \n",
      " [[24  2]\n",
      " [21  7]]\n"
     ]
    },
    {
     "data": {
      "image/png": "[encoded data removed]",
      "text/plain": [
       "<matplotlib.figure.Figure at 0x2b5a9b95ba8>"
      ]
     },
     "metadata": {},
     "output_type": "display_data"
    }
   ],
   "source": [
    "#\n",
    "# Plot Confusion Matrix. \n",
    "#\n",
    "print('Confusion matrix for Supervised KNN on test data: \\n', confusion)\n",
    "plt.matshow(confusion)\n",
    "plt.title('Confusion matrix', y=1.08)\n",
    "plt.colorbar()\n",
    "plt.ylabel('True label')\n",
    "plt.xlabel('Predicted label')\n",
    "plt.show()"
   ]
  },
  {
   "cell_type": "code",
   "execution_count": null,
   "metadata": {
    "collapsed": true
   },
   "outputs": [],
   "source": [
    "############           SUMMARY OF MODELS            #############\n",
    "############   REFER TO REPORT SUBMITTED IN CANVAS  ############# "
   ]
  }
 ],
 "metadata": {
  "kernelspec": {
   "display_name": "Python 3",
   "language": "python",
   "name": "python3"
  },
  "language_info": {
   "codemirror_mode": {
    "name": "ipython",
    "version": 3
   },
   "file_extension": ".py",
   "mimetype": "text/x-python",
   "name": "python",
   "nbconvert_exporter": "python",
   "pygments_lexer": "ipython3",
   "version": "3.6.3"
  }
 },
 "nbformat": 4,
 "nbformat_minor": 2
}
