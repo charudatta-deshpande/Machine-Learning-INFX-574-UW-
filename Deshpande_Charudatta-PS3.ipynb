{
 "cells": [
  {
   "cell_type": "markdown",
   "metadata": {},
   "source": [
    "# Problem Set 3, due February 5 at 5:30 pm\n",
    "\n",
    "###Before You Start\n",
    "\n",
    "Make sure the following libraries load correctly (hit Ctrl-Enter). Note that while you are loading several powerful libraries, including machine learning libraries, the goal of this problem set is to implement several algorithms from scratch. In particular, you should *not* be using any built-in libraries for nearest neighbors, distance metrics, or cross-validation -- your mission is to write those algorithms in Python! Parts 1 and 2 will be relatively easy; Part 3 will take more time.\n",
    "\n",
    "*Also note:* For this assignment we are requiring you to use base **matplotlib** - no more Seaborn or other packages. This will help you become familiar with techniques for maintaining fine-grained control over your data visualizations. It will also help our graders, who spent countless hours trying to make various versions import for grading."
   ]
  },
  {
   "cell_type": "code",
   "execution_count": 373,
   "metadata": {
    "collapsed": true
   },
   "outputs": [],
   "source": [
    "#\n",
    "# Student Name - Charudatta Deshpande\n",
    "#\n",
    "# Collaborators - Ram Ganesan, Charles Hemstreet, Mehdi Muntazir, \n",
    "# Manas Thakre\n",
    "#\n",
    "#############################################\n",
    "# Import required libraries.                # \n",
    "#############################################\n",
    "#\n",
    "import IPython\n",
    "import numpy as np\n",
    "import scipy as sp\n",
    "import pandas as pd\n",
    "import matplotlib\n",
    "import sklearn\n",
    "from sklearn.model_selection import train_test_split\n",
    "import itertools\n",
    "from itertools import islice\n",
    "import random"
   ]
  },
  {
   "cell_type": "markdown",
   "metadata": {},
   "source": [
    "---\n",
    "\n",
    "## Introduction to the assignment\n",
    "\n",
    "For this assignment, you will be using the Boston Housing Prices Data Set.  This used to be housed by [UCI Machine Learning Repository](http://archive.ics.uci.edu/ml/datasets/Housing), but it is not housed there any more. You can read about it at [Kaggle](https://www.kaggle.com/vikrishnan/boston-house-prices) and at the [University of Toronto](https://www.cs.toronto.edu/~delve/data/boston/bostonDetail.html). Please read about the dataset carefully before continuing.  Use the following commands to load the dataset:\n"
   ]
  },
  {
   "cell_type": "code",
   "execution_count": 374,
   "metadata": {
    "collapsed": true
   },
   "outputs": [],
   "source": [
    "from sklearn.datasets import load_boston\n",
    "bdata = load_boston()"
   ]
  },
  {
   "cell_type": "markdown",
   "metadata": {},
   "source": [
    "The following commands will provide some basic information about the shape of the data:"
   ]
  },
  {
   "cell_type": "code",
   "execution_count": 375,
   "metadata": {},
   "outputs": [
    {
     "name": "stdout",
     "output_type": "stream",
     "text": [
      "dict_keys(['data', 'target', 'feature_names', 'DESCR'])\n",
      "['CRIM' 'ZN' 'INDUS' 'CHAS' 'NOX' 'RM' 'AGE' 'DIS' 'RAD' 'TAX' 'PTRATIO'\n",
      " 'B' 'LSTAT']\n",
      "(506, 13)\n",
      "(506,)\n",
      "Boston House Prices dataset\n",
      "===========================\n",
      "\n",
      "Notes\n",
      "------\n",
      "Data Set Characteristics:  \n",
      "\n",
      "    :Number of Instances: 506 \n",
      "\n",
      "    :Number of Attributes: 13 numeric/categorical predictive\n",
      "    \n",
      "    :Median Value (attribute 14) is usually the target\n",
      "\n",
      "    :Attribute Information (in order):\n",
      "        - CRIM     per capita crime rate by town\n",
      "        - ZN       proportion of residential land zoned for lots over 25,000 sq.ft.\n",
      "        - INDUS    proportion of non-retail business acres per town\n",
      "        - CHAS     Charles River dummy variable (= 1 if tract bounds river; 0 otherwise)\n",
      "        - NOX      nitric oxides concentration (parts per 10 million)\n",
      "        - RM       average number of rooms per dwelling\n",
      "        - AGE      proportion of owner-occupied units built prior to 1940\n",
      "        - DIS      weighted distances to five Boston employment centres\n",
      "        - RAD      index of accessibility to radial highways\n",
      "        - TAX      full-value property-tax rate per $10,000\n",
      "        - PTRATIO  pupil-teacher ratio by town\n",
      "        - B        1000(Bk - 0.63)^2 where Bk is the proportion of blacks by town\n",
      "        - LSTAT    % lower status of the population\n",
      "        - MEDV     Median value of owner-occupied homes in $1000's\n",
      "\n",
      "    :Missing Attribute Values: None\n",
      "\n",
      "    :Creator: Harrison, D. and Rubinfeld, D.L.\n",
      "\n",
      "This is a copy of UCI ML housing dataset.\n",
      "http://archive.ics.uci.edu/ml/datasets/Housing\n",
      "\n",
      "\n",
      "This dataset was taken from the StatLib library which is maintained at Carnegie Mellon University.\n",
      "\n",
      "The Boston house-price data of Harrison, D. and Rubinfeld, D.L. 'Hedonic\n",
      "prices and the demand for clean air', J. Environ. Economics & Management,\n",
      "vol.5, 81-102, 1978.   Used in Belsley, Kuh & Welsch, 'Regression diagnostics\n",
      "...', Wiley, 1980.   N.B. Various transformations are used in the table on\n",
      "pages 244-261 of the latter.\n",
      "\n",
      "The Boston house-price data has been used in many machine learning papers that address regression\n",
      "problems.   \n",
      "     \n",
      "**References**\n",
      "\n",
      "   - Belsley, Kuh & Welsch, 'Regression diagnostics: Identifying Influential Data and Sources of Collinearity', Wiley, 1980. 244-261.\n",
      "   - Quinlan,R. (1993). Combining Instance-Based and Model-Based Learning. In Proceedings on the Tenth International Conference of Machine Learning, 236-243, University of Massachusetts, Amherst. Morgan Kaufmann.\n",
      "   - many more! (see http://archive.ics.uci.edu/ml/datasets/Housing)\n",
      "\n"
     ]
    }
   ],
   "source": [
    "print (bdata.keys())\n",
    "print (bdata.feature_names)\n",
    "print (bdata.data.shape)\n",
    "print (bdata.target.shape)\n",
    "# uncomment the following if you want to see a lengthy description \n",
    "# of the dataset\n",
    "print (bdata.DESCR)"
   ]
  },
  {
   "cell_type": "markdown",
   "metadata": {},
   "source": [
    "---\n",
    "\n",
    "##Part 1: Descriptive analysis\n",
    "\n",
    "Before beginning the \"real\" work, dig into the data a bit do see what you're dealing with.  If you feel that you are still in the beginning stages of analyzing data in Python, no problem. That is understandable. Just make sure to read some of the online resources like [this one](https://github.com/jrjohansson/scientific-python-lectures).\n",
    "\n",
    "###1.1: Histogram of housing prices\n",
    "\n",
    "Below you will find some very basic code to make a very basic histogram of median housing prices (the \"target\" variable) for your dataset.  Your first task is to make this graph look pretty by doing the following:\n",
    "\n",
    "1. Add appropriate labels to the x and y axes, make sure to include units\n",
    "2. Change the bin width on the histogram to be $1000\n",
    "3. Remove the axes on the top and right side of the plot window\n",
    "4. Change the color of the bars to be green, and remove the black borders from the bars\n"
   ]
  },
  {
   "cell_type": "code",
   "execution_count": 376,
   "metadata": {},
   "outputs": [
    {
     "data": {
      "image/png": "[encoded data removed]",
      "text/plain": [
       "<matplotlib.figure.Figure at 0x1655ae93be0>"
      ]
     },
     "metadata": {},
     "output_type": "display_data"
    }
   ],
   "source": [
    "# prepare your jupyter notebook to work with matplotlib and import the library \n",
    "#to something convenient\n",
    "%matplotlib inline  \n",
    "import matplotlib.pyplot as plt  \n",
    "\n",
    "# edit the code below to make the graph look good\n",
    "# plt.hist(bdata.target)\n",
    "#\n",
    "# Q 1.1.1 Add appropriate labels to the x and y axes, make sure to include units\n",
    "# \n",
    "fig, ax = plt.subplots()\n",
    "plt.title(\"Histogram of Boston House Values\")\n",
    "plt.xlabel(\"House Values (in USD X 1000)\")\n",
    "plt.ylabel(\"Frequency\")\n",
    "#\n",
    "# Q 1.1.2 Change the bin width on the histogram to be $1000\n",
    "# \n",
    "number_of_bins = bdata.target.max() - bdata.target.min()\n",
    "#\n",
    "# Q 1.1.3 Remove the axes on the top and right side of the plot window\n",
    "# \n",
    "ax.spines['right'].set_visible(False)\n",
    "ax.spines['top'].set_visible(False)\n",
    "#\n",
    "# Q 1.1.4 Change the color of the bars to be green, and remove the \n",
    "# black borders from the bars\n",
    "# \n",
    "ax.hist(bdata.target, bins=int(number_of_bins), color='green', edgecolor = 'none')\n",
    "plt.show()"
   ]
  },
  {
   "cell_type": "markdown",
   "metadata": {},
   "source": [
    "###1.2: Scatter plot of housing prices and crime\n",
    "\n",
    "Use matplotlib to create a scatter plot that shows the relationship between the median value of the home (y-axis) and the per-capita crime rate (x-axis).  Properly label your axes, and make sure that your graphic looks polished and professional.\n"
   ]
  },
  {
   "cell_type": "code",
   "execution_count": 377,
   "metadata": {},
   "outputs": [
    {
     "data": {
      "image/png": "[encoded data removed]",
      "text/plain": [
       "<matplotlib.figure.Figure at 0x1655773bdd8>"
      ]
     },
     "metadata": {},
     "output_type": "display_data"
    }
   ],
   "source": [
    "#\n",
    "# Q 1.2 Convert to a pandas dataframe\n",
    "#\n",
    "boston = pd.DataFrame(bdata.data, columns= bdata['feature_names'])\n",
    "boston['target'] = pd.Series(bdata.target)\n",
    "#\n",
    "# Create a scatter plot, remove top and right axes\n",
    "# use correct labels. \n",
    "#\n",
    "fig, ax1 = plt.subplots()\n",
    "plt.title(\"Scatter Plot of Crime vs Median Hose Values\")\n",
    "plt.xlabel(\"Crime (per capita by town)\")\n",
    "plt.ylabel(\"House Values (in USD X 1000)\")\n",
    "plt.scatter(boston.CRIM, boston.target)\n",
    "ax1.spines['right'].set_visible(False)\n",
    "ax1.spines['top'].set_visible(False)\n",
    "plt.show()\n",
    "#\n",
    "# Interpretations from Q 1.2 \n",
    "#\n",
    "# The scatter plot clearly shows a relationship between crime and \n",
    "# house prices.\n",
    "# In general, more the crime, less the house value. \n",
    "#"
   ]
  },
  {
   "cell_type": "markdown",
   "metadata": {},
   "source": [
    "###1.3 Create your own (creative and effective) visualization\n",
    "\n",
    "Use another type of graph or chart to illustrate an interesting pattern in the data.  Be creative in your visualization, and make sure to produce a \"publication-quality\" graph.  Points will be given for useful and creative graphs; points will be deducted for confusing issues like unlabeled axes.  If you're new to data visualization, [this guide](http://pubs.aeaweb.org/doi/pdfplus/10.1257/jep.28.1.209) is a good place to start."
   ]
  },
  {
   "cell_type": "code",
   "execution_count": 378,
   "metadata": {},
   "outputs": [
    {
     "data": {
      "image/png": "[encoded data removed]",
      "text/plain": [
       "<matplotlib.figure.Figure at 0x16557d79be0>"
      ]
     },
     "metadata": {},
     "output_type": "display_data"
    }
   ],
   "source": [
    "#\n",
    "# Q 1.3 Create a visualization of average number of rooms \n",
    "# vs median house prices. \n",
    "#\n",
    "fig, ax2 = plt.subplots()\n",
    "plt.title(\"Scatter Plot of Age vs Median Hose Values colored by Number of Rooms\")\n",
    "plt.xlabel(\"Age of Houses (proportion of owner-occupied units built prior to 1940)\")\n",
    "plt.ylabel(\"House Values (in USD X 1000)\")\n",
    "#\n",
    "plt.scatter(boston.AGE, boston.target, alpha=0.2,\n",
    "            c=boston.RM, cmap='viridis')\n",
    "ax2.spines['right'].set_visible(False)\n",
    "ax2.spines['top'].set_visible(False)\n",
    "cbar= plt.colorbar()\n",
    "cbar.set_label(\"Number of Rooms\", labelpad=+5)\n",
    "plt.show()\n",
    "#\n",
    "# Interpretation of Q 1.3 visualization\n",
    "#\n",
    "# We can see that as the age of the houses in the neighborhood increases,the\n",
    "# overall house value goes down. Also, as number of rooms increases, the\n",
    "# house value increases.\n",
    "#"
   ]
  },
  {
   "cell_type": "markdown",
   "metadata": {},
   "source": [
    "---\n",
    "\n",
    "##Part 2: Experimental Setup\n",
    "\n",
    "The goal of the next few sections is to design an experiment to predict the median home value for an instance in the data.\n",
    "\n",
    "###2.1 Begin by writing a function to compute the Root Mean Squared Error for a list of numbers\n",
    "\n",
    "You can find the sqrt function in the Numpy package. Furthermore the details of RMSE can be found on [Wikipedia](http://en.wikipedia.org/wiki/Root-mean-square_deviation)\n",
    "\n"
   ]
  },
  {
   "cell_type": "code",
   "execution_count": 411,
   "metadata": {},
   "outputs": [
    {
     "name": "stdout",
     "output_type": "stream",
     "text": [
      "Calculated RMSE is :  2.08166599947\n"
     ]
    }
   ],
   "source": [
    "\"\"\"\n",
    "Function\n",
    "--------\n",
    "compute_rmse\n",
    "\n",
    "Given two arrays, one of actual values and one of predicted values,\n",
    "compute the Roote Mean Squared Error\n",
    "\n",
    "Parameters\n",
    "----------\n",
    "predictions : array\n",
    "    Array of numerical values corresponding to predictions for each of the N observations\n",
    "\n",
    "yvalues : array\n",
    "    Array of numerical values corresponding to the actual values for each of the N observations\n",
    "\n",
    "Returns\n",
    "-------\n",
    "rmse : int\n",
    "    Root Mean Squared Error of the prediction\n",
    "\n",
    "Example\n",
    "-------\n",
    ">>> print compute_rmse((2,2,3),(0,2,6)\n",
    "2.16\n",
    "\"\"\"\n",
    "def compute_rmse(predictions, yvalues):\n",
    "    # Code begins here. \n",
    "    rmse = np.sqrt(((predictions - yvalues) ** 2).mean())\n",
    "    return rmse\n",
    "#\n",
    "# Calculate RMSE for above specified arrays. \n",
    "#\n",
    "a = [2,2,3]\n",
    "b = [0,2,6]\n",
    "print(\"Calculated RMSE is : \", compute_rmse(np.array(a), np.array(b)))\n",
    "    "
   ]
  },
  {
   "cell_type": "markdown",
   "metadata": {},
   "source": [
    "###2.2 Divide your data into training and testing datasets\n",
    "\n",
    "Randomly select 66% of the data and put this in a training dataset (call this \"bdata_train\"), and place the remaining 34% in a testing dataset (call this \"bdata_test\")\n"
   ]
  },
  {
   "cell_type": "code",
   "execution_count": 430,
   "metadata": {},
   "outputs": [
    {
     "name": "stdout",
     "output_type": "stream",
     "text": [
      "Number of records in Boston dataset:  506\n",
      "Number of records in Boston testing dataset:  168\n",
      "Number of records in Boston training dataset:  338\n"
     ]
    }
   ],
   "source": [
    "# leave the following line untouched, it will help ensure that your \"random\" split \n",
    "# is the same \"random\" split used by the rest of the class\n",
    "#\n",
    "np.random.seed(seed=13579)\n",
    "boston['rand'] = boston.apply(lambda row: random.random(), axis=1)\n",
    "boston['train'] = (boston['rand']<=.66)\n",
    "boston['test'] = (boston['rand']>.66) \n",
    "bdata_train = boston[boston['train']]\n",
    "bdata_test = boston[boston['test']]\n",
    "print(\"Number of records in Boston dataset: \", len(boston))\n",
    "print(\"Number of records in Boston testing dataset: \", len(bdata_test))\n",
    "print(\"Number of records in Boston training dataset: \", len(bdata_train))\n",
    "bdata_train = bdata_train.drop('rand',axis=1)\n",
    "bdata_train = bdata_train.drop('train',axis=1)\n",
    "bdata_train = bdata_train.drop('test',axis=1)\n",
    "#\n",
    "bdata_test = bdata_test.drop('rand',axis=1)\n",
    "bdata_test = bdata_test.drop('train',axis=1)\n",
    "bdata_test = bdata_test.drop('test',axis=1)\n",
    "#\n",
    "boston = boston.drop('rand',axis=1)\n",
    "boston = boston.drop('train',axis=1)\n",
    "boston = boston.drop('test',axis=1)\n",
    "#\n",
    "# Check number of records in each set. \n",
    "#"
   ]
  },
  {
   "cell_type": "markdown",
   "metadata": {},
   "source": [
    "###2.3 Use a very bad baseline for prediction, and compute RMSE\n",
    "\n",
    "Create a model that predicts, for every observation x_i, that the median home value is the average (mean) of the median values for all instances in the training set.  Compute the RMSE on the training set.  Now compute the RMSE on the test data set (but use the model you trained on the training set!).  How does RMSE compare for training vs. testing datasets? Is this what you expected, and why?"
   ]
  },
  {
   "cell_type": "code",
   "execution_count": 431,
   "metadata": {},
   "outputs": [
    {
     "name": "stdout",
     "output_type": "stream",
     "text": [
      "Calculated RMSE on training dataset is:  9.56999438606\n",
      "Calculated RMSE on testing dataset is:  8.31769893939\n"
     ]
    }
   ],
   "source": [
    "# enter your code here\n",
    "#\n",
    "# Create a model that predicts that the median home value is the \n",
    "# average (mean) of the median values. \n",
    "#\n",
    "pd.options.mode.chained_assignment = None  # default='warn'\n",
    "bdata_train['bad_model_pred_value'] = np.mean(bdata_train.target)\n",
    "#\n",
    "# Calculate RMSE on this training set \n",
    "# \n",
    "print(\"Calculated RMSE on training dataset is: \", \n",
    "      compute_rmse(bdata_train.bad_model_pred_value, bdata_train.target))\n",
    "#\n",
    "# Do the above process on test data\n",
    "# \n",
    "bdata_test['bad_model_pred_value'] = np.mean(bdata_test.target)\n",
    "print(\"Calculated RMSE on testing dataset is: \", \n",
    "      compute_rmse(bdata_test.bad_model_pred_value, bdata_test.target))"
   ]
  },
  {
   "cell_type": "markdown",
   "metadata": {},
   "source": [
    "*Enter your observations here*              \n",
    "Charu's answer - \n",
    "\n",
    "The RMSE value is quite large for both training and testing datasets,\n",
    "and very close. This is expected given how bad our model is. \n",
    "RMSE for test dataset is slightly lower than training data. \n",
    "That is also expected because of larger size of training data. \n",
    "Because of larger size, the model is worse on the training data as there are\n",
    "larger daviations from actual values. "
   ]
  },
  {
   "cell_type": "markdown",
   "metadata": {},
   "source": [
    "---\n",
    "\n",
    "##Part 3: Nearest Neighbors\n"
   ]
  },
  {
   "cell_type": "markdown",
   "metadata": {},
   "source": [
    "###3.1 Nearest Neighbors: Distance function\n",
    "Let's try and build a machine learning algorithm to beat the \"Average Value\" baseline that you computed above.  Soon you will implement the Nearest Neighbor algorithm, but first you need to create a distance metric to measure the distance (and similarity) between two instances.  Write a generic function to compute the L-Norm distance (called the [*p*-norm](http://en.wikipedia.org/wiki/Norm_(mathematics) distance on Wikipedia). Verify that your function works by computing the Euclidean distance between the points (3,4) and (6,8)."
   ]
  },
  {
   "cell_type": "code",
   "execution_count": 432,
   "metadata": {},
   "outputs": [
    {
     "name": "stdout",
     "output_type": "stream",
     "text": [
      "The distance between given points is:  5.0\n",
      "The distance between given points is:  8.0622577483\n"
     ]
    }
   ],
   "source": [
    "\"\"\"\n",
    "Function\n",
    "--------\n",
    "distance\n",
    "\n",
    "Given two instances and a value for L, return the L-Norm distance between them\n",
    "\n",
    "Parameters\n",
    "----------\n",
    "x1, x2 : array\n",
    "    Array of numerical values corresponding to predictions for each of the N observations\n",
    "\n",
    "L: int\n",
    "    Value of L to use in computing distances\n",
    "\n",
    "Returns\n",
    "-------\n",
    "dist : int\n",
    "    The L-norm distance between instances\n",
    "\n",
    "Example\n",
    "-------\n",
    ">>> print distance((3,4),(6,8),2)\n",
    "7\n",
    "\n",
    "\"\"\"\n",
    "def distance(x1, x2, L):\n",
    "    mse = np.power(np.absolute(np.subtract(x1, x2)),L)\n",
    "    sum_mse = np.sum(mse)\n",
    "    dist = np.power(sum_mse, (1/L))\n",
    "    return dist\n",
    "# \n",
    "# Note - L-norm distance = Euclidean distance when L = 2\n",
    "# For other values of L, see wikipedia. \n",
    "#\n",
    "# Calculate above distance in 2 dimensions \n",
    "# L = 2 so it is Euclidean distance\n",
    "# \n",
    "print(\"The distance between given points is: \", distance([3,4],[6,8],2))\n",
    "#\n",
    "# Test in 3 dimensions. \n",
    "# L = 2 so it is Euclidean distance\n",
    "# \n",
    "print(\"The distance between given points is: \", distance([-1,2,3],[4,0,-3],2))\n",
    "# "
   ]
  },
  {
   "cell_type": "markdown",
   "metadata": {},
   "source": [
    "###3.2 Basic Nearest Neighbor algorithm\n",
    "\n",
    "Now things get fun.  Your task is to implement a basic nearest neighbor algorithm from scratch.  Your simple model will use two input features (CRIM and RM) and a single output (MEDV).  In other words, you are modelling the relationship between median home value and crime rates and house size.\n",
    "\n",
    "Use your training data (bdata_train) to \"fit\" your model, although as you know, with Nearest Neighbors there is no real training, you just need to keep your training data in memory.  Write a function that predicts, for each instance in the testing data (bdata_test), the median home value using the nearest neighbor algorithm we discussed in class.  Since this is a small dataset, you can simply compare your test instance to every instance in the training set, and return the MEDV value of the closest training instance.  Have your function take L as an input, where L is passed to the distance function.\n",
    "\n",
    "Compute the RMSE for the Nearest Neighbor predictions on the test set, using the Euclidean distance.  Report an estimate of the total time taken by your code to predict the nearest neighbors for all the values in the test data set."
   ]
  },
  {
   "cell_type": "code",
   "execution_count": 433,
   "metadata": {},
   "outputs": [
    {
     "name": "stdout",
     "output_type": "stream",
     "text": [
      "Time taken: 0.0 seconds\n",
      "actual:  [5, 4]\n",
      "predicted:  [4, 4]\n",
      "Time taken: 1.57 seconds\n",
      "Calculated RMSE on Nearest Neighbor algorithm is:  6.29328818588\n"
     ]
    }
   ],
   "source": [
    "\"\"\"\n",
    "# write your function specification here!\n",
    "# Charu's response - \n",
    "# We will first create new training and testing datasets with only \n",
    "# CRIM, RM and target as data. Other columns will be dropped. \n",
    "# We will then compare CRIM and RM from test dataset to each \n",
    "# record in the training dataset and return the 'target' value for the\n",
    "# closest instance from the training dataset. \n",
    "# based on predicted values and actual values, we will then calculate the \n",
    "# RMSE. \n",
    "\"\"\"\n",
    "#\n",
    "# Only copy data being used for analysis. \n",
    "#\n",
    "bdata_train_new = bdata_train[['CRIM', 'RM', 'target']]\n",
    "bdata_test_new = bdata_test[['CRIM', 'RM', 'target']]\n",
    "#\n",
    "import time\n",
    "import operator \n",
    "\n",
    "def nneighbor(train_data, test_data, L):\n",
    "    start_time = time.time()\n",
    "    # Charu's code begins here\n",
    "    actual = []    \n",
    "    predicted = []\n",
    "    for x in range(len(test_data)):\n",
    "        distances = []\n",
    "        for y in range(len(train_data)):\n",
    "            dist = distance(test_data[x][0:2], train_data[y][0:2], L)\n",
    "            distances.append((test_data[x], train_data[y], [dist]))\n",
    "            distances.sort(key=operator.itemgetter(2))             \n",
    "        z = distances[0]\n",
    "        merged = list(itertools.chain(*z))\n",
    "        actual.append([merged[2]])\n",
    "        predicted.append([merged[5]])        \n",
    "    print(\"Time taken: \" + str(round(time.time() - start_time,2)) + \" seconds\")\n",
    "    return actual, predicted\n",
    "#\n",
    "# your additional code here\n",
    "#\n",
    "# Test the function on simple data\n",
    "# \n",
    "train_data = [[2, 2, 2], [4, 4, 4], [5, 5, 4]]\n",
    "test_data =  [[5, 5, 5], [4, 4, 4]]\n",
    "L = 2\n",
    "actual, predicted = nneighbor(train_data, test_data, L)\n",
    "actual_merged = list(itertools.chain(*actual))\n",
    "predicted_merged = list(itertools.chain(*predicted))\n",
    "print(\"actual: \", actual_merged)\n",
    "print(\"predicted: \", predicted_merged)\n",
    "#\n",
    "# Now actually use the training and testing dataset and see the results\n",
    "#\n",
    "train_data = bdata_train_new.values\n",
    "test_data = bdata_test_new.values\n",
    "L = 2\n",
    "actual, predicted = nneighbor(train_data, test_data, L)\n",
    "actual_merged = list(itertools.chain(*actual))\n",
    "predicted_merged = list(itertools.chain(*predicted))\n",
    "actual_array = np.asarray(actual_merged)\n",
    "predicted_array = np.asarray(predicted_merged)\n",
    "print(\"Calculated RMSE on Nearest Neighbor algorithm is: \", \n",
    "      compute_rmse(predicted_array, actual_array))\n",
    "#\n",
    "# Note - Look at printed values below. \n",
    "#"
   ]
  },
  {
   "cell_type": "markdown",
   "metadata": {},
   "source": [
    "###3.3 Results and Normalization\n",
    "\n",
    "If you were being astute, you would have noticed that we never normalized our features -- a big no-no with Nearest Neighbor algorithms.  Write a generic normalization function that takes as input an array of values for a given feature, and returns the normalized array (subtract the mean and divide by the standard deviation).\n",
    "\n",
    "Re-run the Nearest Neighbor algorithm on the normalized dataset (still just using CRIM and RM as input), and compare the RMSE from this method with your previous RMSE evaluations.\n",
    "\n",
    "*NOTE*: To normalize properly, best practice is to compute the mean and standard deviation on the training set, and use these values to normalize the testing dataset. However, for this problem set, it is okay if you separately normalize each dataset using the respective mean and standard deviation."
   ]
  },
  {
   "cell_type": "code",
   "execution_count": 434,
   "metadata": {},
   "outputs": [
    {
     "name": "stdout",
     "output_type": "stream",
     "text": [
      "Test data normalized:  [ 0.33333333  0.33333333 -0.66666667]\n",
      "Time taken: 1.54 seconds\n",
      "Calculated RMSE on normalized Nearest Neighbor algorithm is:  8.26826981383\n"
     ]
    }
   ],
   "source": [
    "\"\"\"\n",
    "# write your function specification here!\n",
    "# Charu's response - \n",
    "# We will write a function to normalize an array. \n",
    "# Formula - \n",
    "# Normalized value = (original value - mean)/(max value - min value)\n",
    "#\n",
    "\"\"\"\n",
    "def normalize(raw_data):\n",
    "    # Charu's code begins here\n",
    "    normalized_data = (raw_data-np.mean(raw_data))/np.ptp(raw_data)\n",
    "    return normalized_data\n",
    "#\n",
    "# your additional code here\n",
    "# \n",
    "# test on a very small array\n",
    "#\n",
    "a = [5, 5, 4]\n",
    "normalized_data = normalize(a)\n",
    "print(\"Test data normalized: \", normalized_data)\n",
    "#\n",
    "# Now actually use the training and testing dataset and see the results\n",
    "#\n",
    "bdata_train['CRIM_normalized'] = normalize(bdata_train['CRIM'])\n",
    "bdata_train['RM_normalized'] = normalize(bdata_train['RM'])\n",
    "bdata_train['AGE_normalized'] = normalize(bdata_train['AGE'])\n",
    "bdata_train['DIS_normalized'] = normalize(bdata_train['DIS'])\n",
    "#\n",
    "bdata_test['CRIM_normalized'] = normalize(bdata_test['CRIM'])\n",
    "bdata_test['RM_normalized'] = normalize(bdata_test['RM'])\n",
    "bdata_test['AGE_normalized'] = normalize(bdata_test['AGE'])\n",
    "bdata_test['DIS_normalized'] = normalize(bdata_test['DIS'])\n",
    "\n",
    "#\n",
    "bdata_train_new1 = bdata_train[['CRIM_normalized', 'RM_normalized', 'target']]\n",
    "bdata_test_new1 = bdata_test[['CRIM_normalized', 'RM_normalized', 'target']]\n",
    "train_data = bdata_train_new1.values\n",
    "test_data = bdata_test_new1.values\n",
    "L = 2\n",
    "actual, predicted = nneighbor(train_data, test_data, L)\n",
    "actual_merged = list(itertools.chain(*actual))\n",
    "predicted_merged = list(itertools.chain(*predicted))\n",
    "actual_array = np.asarray(actual_merged)\n",
    "predicted_array = np.asarray(predicted_merged)\n",
    "print(\"Calculated RMSE on normalized Nearest Neighbor algorithm is: \", \n",
    "      compute_rmse(predicted_array, actual_array))\n",
    "#\n",
    "# Note - Look at printed values below. \n",
    "#"
   ]
  },
  {
   "cell_type": "markdown",
   "metadata": {},
   "source": [
    "*enter your observations here*\n",
    "     \n",
    "Charu's answer - \n",
    "\n",
    "The RMSE value is quite large for non-normalized array - Refer above.          \n",
    "        \n",
    "The RMSE value for normalized array is similar - Refer above. \n",
    "\n",
    "This indicates that normalizing array does not improve the accuracy\n",
    "of this very basic model. "
   ]
  },
  {
   "cell_type": "markdown",
   "metadata": {},
   "source": [
    "###3.4 Optimization\n",
    "\n",
    "A lot of the decisions we've made so far have been arbitrary.  Try to increase the performance of your nearest neighbor algorithm by adding features that you think might be relevant, and by using different values of L in the distance function.  Try a model that uses a different set of 2 features, then try at least one model that uses more than 4 features, then try using a different value of L.  If you're having fun, try a few different combinations of features and L!\n",
    "\n",
    "What combination of features and distance function provide the lowest RMSE?  Do your decisions affect the running time of the algorithm?"
   ]
  },
  {
   "cell_type": "code",
   "execution_count": 437,
   "metadata": {},
   "outputs": [
    {
     "name": "stdout",
     "output_type": "stream",
     "text": [
      "Time taken: 1.56 seconds\n",
      "Calculated RMSE on Nearest Neighbor algorithm using  AGE and DIS is:  11.8273794545\n"
     ]
    }
   ],
   "source": [
    "#\n",
    "# Sub question 1\n",
    "#\n",
    "# First, try a model that uses 2 different features. \n",
    "# We will select AGE and DIS. \n",
    "# AGE = proportion of owner-occupied units built prior to 1940\n",
    "# DIS = weighted distances to five Boston employment centres\n",
    "#\n",
    "bdata_train_new2 = bdata_train[['AGE_normalized', 'DIS_normalized', 'target']]\n",
    "bdata_test_new2= bdata_test[['AGE_normalized', 'DIS_normalized', 'target']]\n",
    "train_data = bdata_train_new2.values\n",
    "test_data = bdata_test_new2.values\n",
    "L = 2\n",
    "actual, predicted = nneighbor(train_data, test_data, L)\n",
    "actual_merged = list(itertools.chain(*actual))\n",
    "predicted_merged = list(itertools.chain(*predicted))\n",
    "actual_array = np.asarray(actual_merged)\n",
    "predicted_array = np.asarray(predicted_merged)\n",
    "print(\"Calculated RMSE on Nearest Neighbor algorithm using  AGE and DIS is: \", \n",
    "      compute_rmse(predicted_array, actual_array))\n",
    "#\n",
    "# Note - Look at printed values below. \n",
    "#\n"
   ]
  },
  {
   "cell_type": "markdown",
   "metadata": {},
   "source": [
    "*enter your observations here*\n",
    "     \n",
    "Charu's answer - \n",
    "\n",
    "The RMSE value using 4 features is:  Refer above. This is slightly \n",
    "better than the above 2 models. Still this is a very basic model. \n"
   ]
  },
  {
   "cell_type": "code",
   "execution_count": 438,
   "metadata": {},
   "outputs": [
    {
     "name": "stdout",
     "output_type": "stream",
     "text": [
      "Time taken: 1.56 seconds\n",
      "Calculated RMSE on Nearest Neighbor algorithm using 4 features is:  7.41831709833\n"
     ]
    }
   ],
   "source": [
    "#\n",
    "# Sub question 2\n",
    "#\n",
    "# Second, try a model that uses 4 different features. \n",
    "# We will select CRIM, RM, AGE and DIS. \n",
    "# This is just a combination of 2 models above. \n",
    "# Since our model is hard coded for position of data, we need to\n",
    "# make modifications to it \n",
    "#\n",
    "# Modified model\n",
    "#\n",
    "def nneighbor1(train_data, test_data, L):\n",
    "    start_time = time.time()\n",
    "    # Charu's code begins here\n",
    "    actual = []    \n",
    "    predicted = []\n",
    "    for x in range(len(test_data)):\n",
    "        distances = []\n",
    "        for y in range(len(train_data)):\n",
    "            dist = distance(test_data[x][0:4], train_data[y][0:4], L)\n",
    "            distances.append((test_data[x], train_data[y], [dist]))\n",
    "            distances.sort(key=operator.itemgetter(2))    \n",
    "        z = distances[0]\n",
    "        merged = list(itertools.chain(*z))\n",
    "        actual.append([merged[4]])\n",
    "        predicted.append([merged[9]])        \n",
    "    print(\"Time taken: \" + str(round(time.time() - start_time,2)) + \" seconds\")\n",
    "    return actual, predicted\n",
    "# \n",
    "bdata_train_new3 = bdata_train[['CRIM_normalized', 'RM_normalized', \n",
    "                                'AGE_normalized', 'DIS_normalized', 'target']]\n",
    "bdata_test_new3 = bdata_test[['CRIM_normalized', 'RM_normalized', \n",
    "                              'AGE_normalized', 'DIS_normalized', 'target']]\n",
    "train_data = bdata_train_new3.values\n",
    "test_data = bdata_test_new3.values\n",
    "L = 2\n",
    "actual, predicted = nneighbor1(train_data, test_data, L)\n",
    "actual_merged = list(itertools.chain(*actual))\n",
    "predicted_merged = list(itertools.chain(*predicted))\n",
    "actual_array = np.asarray(actual_merged)\n",
    "predicted_array = np.asarray(predicted_merged)\n",
    "print(\"Calculated RMSE on Nearest Neighbor algorithm using 4 features is: \", \n",
    "      compute_rmse(predicted_array, actual_array))\n",
    "#\n",
    "# Note - Look at printed values below. \n",
    "#"
   ]
  },
  {
   "cell_type": "code",
   "execution_count": 439,
   "metadata": {},
   "outputs": [
    {
     "name": "stdout",
     "output_type": "stream",
     "text": [
      "Time taken: 1.55 seconds\n",
      "Calculated RMSE on Nearest Neighbor algorithm using L = 1 is:  7.5535548238\n",
      "Time taken: 1.56 seconds\n",
      "Calculated RMSE on Nearest Neighbor algorithm using L = 3 is:  7.39954149159\n"
     ]
    }
   ],
   "source": [
    "#\n",
    "# Sub question 3\n",
    "#\n",
    "# Third, use an L value of 1 and 3 and see what happens. \n",
    "# Use the 4 feature model. \n",
    "#\n",
    "bdata_train_new3 = bdata_train[['CRIM_normalized', 'RM_normalized', \n",
    "                                'AGE_normalized', 'DIS_normalized', 'target']]\n",
    "bdata_test_new3 = bdata_test[['CRIM_normalized', 'RM_normalized', \n",
    "                              'AGE_normalized', 'DIS_normalized', 'target']]\n",
    "train_data = bdata_train_new3.values\n",
    "test_data = bdata_test_new3.values\n",
    "L = 1\n",
    "actual, predicted = nneighbor1(train_data, test_data, L)\n",
    "actual_merged = list(itertools.chain(*actual))\n",
    "predicted_merged = list(itertools.chain(*predicted))\n",
    "actual_array = np.asarray(actual_merged)\n",
    "predicted_array = np.asarray(predicted_merged)\n",
    "print(\"Calculated RMSE on Nearest Neighbor algorithm using L = 1 is: \", \n",
    "      compute_rmse(predicted_array, actual_array))\n",
    "#\n",
    "L = 3\n",
    "actual, predicted = nneighbor1(train_data, test_data, L)\n",
    "actual_merged = list(itertools.chain(*actual))\n",
    "predicted_merged = list(itertools.chain(*predicted))\n",
    "actual_array = np.asarray(actual_merged)\n",
    "predicted_array = np.asarray(predicted_merged)\n",
    "print(\"Calculated RMSE on Nearest Neighbor algorithm using L = 3 is: \", \n",
    "      compute_rmse(predicted_array, actual_array))\n",
    "#\n",
    "# Note - Look at printed values below. \n",
    "#"
   ]
  },
  {
   "cell_type": "markdown",
   "metadata": {},
   "source": [
    "*enter your observations here*\n",
    "     \n",
    "Charu's answer - \n",
    "\n",
    "The RMSE value using different values of L are not very different. \n",
    "Still this is an inefficient model. "
   ]
  },
  {
   "cell_type": "markdown",
   "metadata": {},
   "source": [
    "### 3.5 Cross-Validation\n",
    "\n",
    "The more you tinkered with your features and distance function, the higher the risk that you overfit your training data.  To prevent this sort of overfitting, you need to use cross-validation (see K-fold [cross-validation](http://en.wikipedia.org/wiki/Cross-validation_(statistics)).  Here you must implement a simple k-fold cross-validation algorithm yourself.  The function you write here will be used several more times in this problem set, so do your best to write efficient code! (Note that the sklearn package has a built-in [K-fold](http://scikit-learn.org/stable/modules/cross_validation.html#cross-validation) iterator -- you should *not* be invoking that or any related algorithms in this section of the problem set.)\n",
    "\n",
    "Use 10-fold cross-validation and report the average RMSE for Nearest Neighbors using Euclidean distance with CRIM and RM input features, as well as the total running time for the full run of 10 folds.  In other words, randomly divide your dataset into 10 equally-sized samples, and for each of 10 iterations (the \"folds\"), use 9 samples as \"training data\" (even though there is no training in k-NN!), and the remaining 1 sample for testing.  Compute the RMSE of that particular test set, then move on to the next iteration.  Report the average RMSE across the 10 iterations."
   ]
  },
  {
   "cell_type": "code",
   "execution_count": 479,
   "metadata": {},
   "outputs": [
    {
     "name": "stdout",
     "output_type": "stream",
     "text": [
      "Time taken: 0.71 seconds\n",
      "Calculated RMSE for iteration number  0  is:  4.5829030101\n",
      "Time taken: 0.74 seconds\n",
      "Calculated RMSE for iteration number  1  is:  5.48938976572\n",
      "Time taken: 0.72 seconds\n",
      "Calculated RMSE for iteration number  2  is:  7.33158918653\n",
      "Time taken: 0.7 seconds\n",
      "Calculated RMSE for iteration number  3  is:  9.87846141866\n",
      "Time taken: 0.72 seconds\n",
      "Calculated RMSE for iteration number  4  is:  7.68492029887\n",
      "Time taken: 0.71 seconds\n",
      "Calculated RMSE for iteration number  5  is:  7.020697971\n",
      "Time taken: 0.72 seconds\n",
      "Calculated RMSE for iteration number  6  is:  8.11607047776\n",
      "Time taken: 0.73 seconds\n",
      "Calculated RMSE for iteration number  7  is:  7.32117476912\n",
      "Time taken: 0.71 seconds\n",
      "Calculated RMSE for iteration number  8  is:  5.69424270645\n",
      "Time taken: 0.71 seconds\n",
      "Calculated RMSE for iteration number  9  is:  8.88551630464\n",
      "Calculated mean RMSE on Nearest Neighbor algorithm using CRIM, RM is:  7.20049659089\n"
     ]
    }
   ],
   "source": [
    "from random import seed\n",
    "from random import randrange\n",
    "seed(1458)\n",
    "#\n",
    "# Split a dataset into k folds\n",
    "#\n",
    "def cross_validation_split(dataset, folds=3):\n",
    "    dataset_split = list()\n",
    "    dataset_copy = list(dataset)\n",
    "    fold_size = int(len(dataset) / folds)\n",
    "    for i in range(folds):\n",
    "        fold = list()\n",
    "        while len(fold) < fold_size:\n",
    "            index = randrange(len(dataset_copy))\n",
    "            fold.append(dataset_copy.pop(index))\n",
    "        dataset_split.append(fold)\n",
    "    return dataset_split\n",
    "#\n",
    "# Now we have an item, 'folds', which has k arrays of the data \n",
    "#\n",
    "def cross_validation_perform(folds, k):\n",
    "    rmse = 0\n",
    "    for x in range(k):\n",
    "        train_data_unmerge = np.delete(folds, x, 0)\n",
    "        test_data = folds[x]\n",
    "        train_data = list(itertools.chain(*train_data_unmerge))\n",
    "        actual, predicted = nneighbor(train_data, test_data, L)\n",
    "        actual_merged = list(itertools.chain(*actual))\n",
    "        predicted_merged = list(itertools.chain(*predicted))\n",
    "        actual_array = np.asarray(actual_merged)\n",
    "        predicted_array = np.asarray(predicted_merged)\n",
    "        print(\"Calculated RMSE for iteration number \", x, \" is: \", \n",
    "              compute_rmse(predicted_array, actual_array))\n",
    "        rmse = rmse + compute_rmse(predicted_array, actual_array)\n",
    "    return rmse/k\n",
    "#\n",
    "# Now we have both functions defined. Split and cross validation\n",
    "# Now prep actual data and perform both functions. \n",
    "# \n",
    "boston['CRIM_normalized'] = normalize(boston['CRIM'])\n",
    "boston['RM_normalized'] = normalize(boston['RM'])\n",
    "boston_fold = boston[['CRIM_normalized', 'RM_normalized', 'target']]\n",
    "dataset = boston_fold.values\n",
    "k = 10\n",
    "L = 2\n",
    "folds = cross_validation_split(dataset, k)\n",
    "mean_rmse = cross_validation_perform(folds, k)\n",
    "print(\"Calculated mean RMSE on Nearest Neighbor algorithm using CRIM, RM is: \", mean_rmse)"
   ]
  },
  {
   "cell_type": "markdown",
   "metadata": {},
   "source": [
    "###3.6 K-Nearest Neighbors Algorithm\n",
    "\n",
    "Implement the K-Nearest Neighbors algorithm.  Using 10-fold cross validation, report the RMSE for K=3 and the running time of the algorithm."
   ]
  },
  {
   "cell_type": "code",
   "execution_count": 525,
   "metadata": {
    "collapsed": true
   },
   "outputs": [],
   "source": [
    "\"\"\"\n",
    "# write your function specification here!\n",
    "# Charu's response - \n",
    "# We do the same thing that we did above, but now we only\n",
    "# introduce K, which is number of nearest neighbors. \n",
    "# It is not specified what input variables are to be used. \n",
    "# We will continue to use CRIM and RM. \n",
    "#\n",
    "\"\"\"\n",
    "constant_array = [5,12,19,26,33,40,47,54,61,68,75,82,89,96,103,110,117,124,131,138,145,152,159,166,173]\n",
    "def knn(train_data, test_data, L, K):\n",
    "    sub_array = constant_array[0:K] \n",
    "    # Charu's code begins here\n",
    "    actual = []    \n",
    "    predicted = []\n",
    "    for x in range(len(test_data)):\n",
    "        distances = []\n",
    "        for y in range(len(train_data)):\n",
    "            dist = distance(test_data[x][0:2], train_data[y][0:2], L)\n",
    "            distances.append((test_data[x], train_data[y], [dist]))\n",
    "            distances.sort(key=operator.itemgetter(2))                \n",
    "        z = []\n",
    "        for w in range(K):\n",
    "            z.append(distances[w])        \n",
    "        merged = list(itertools.chain(*z))\n",
    "        merged_again = list(itertools.chain(*merged))\n",
    "        actual.append([merged_again[2]])\n",
    "        counter = 0\n",
    "        for q in range(K):\n",
    "            counter = counter + merged_again[sub_array[q]] \n",
    "        predicted_mean = counter/K                \n",
    "        predicted.append([predicted_mean])  \n",
    "    return actual, predicted\n",
    "#\n",
    "# enter your additional code here\n",
    "# Continued below. "
   ]
  },
  {
   "cell_type": "code",
   "execution_count": 526,
   "metadata": {},
   "outputs": [
    {
     "name": "stdout",
     "output_type": "stream",
     "text": [
      "Calculated mean RMSE on Nearest Neighbor algorithm using K =  3 is:  5.78383656511\n",
      "Time taken: 7.22 seconds\n"
     ]
    }
   ],
   "source": [
    "#\n",
    "# Now we need to rewrite cross validation to account for K\n",
    "#\n",
    "def cross_validation_perform_K(folds, k):\n",
    "    rmse = 0\n",
    "    for x in range(k):\n",
    "        train_data_unmerge = np.delete(folds, x, 0)\n",
    "        test_data = folds[x]\n",
    "        train_data = list(itertools.chain(*train_data_unmerge))\n",
    "        actual, predicted = knn(train_data, test_data, L, K)\n",
    "        actual_merged = list(itertools.chain(*actual))\n",
    "        predicted_merged = list(itertools.chain(*predicted))\n",
    "        actual_array = np.asarray(actual_merged)\n",
    "        predicted_array = np.asarray(predicted_merged)\n",
    "        rmse = rmse + compute_rmse(predicted_array, actual_array)\n",
    "    return rmse/k\n",
    "#\n",
    "# Now we have both functions defined. Split and cross validation\n",
    "# Now prep actual data and perform both functions. \n",
    "# \n",
    "dataset = boston_fold.values\n",
    "k = 10\n",
    "L = 2\n",
    "K = 3\n",
    "start_time = time.time()\n",
    "folds = cross_validation_split(dataset, k)\n",
    "mean_rmse = cross_validation_perform_K(folds, k)\n",
    "print(\"Calculated mean RMSE on Nearest Neighbor algorithm using K = \" ,K, \"is: \", mean_rmse)\n",
    "print(\"Time taken: \" + str(round(time.time() - start_time,2)) + \" seconds\")\n",
    "#\n",
    "# Refer below for calculated values and time\n",
    "#"
   ]
  },
  {
   "cell_type": "markdown",
   "metadata": {},
   "source": [
    "###3.7 Using cross validation to find K\n",
    "\n",
    "What is the best choice of K?  Compute the RMSE for values of K between 1 and 25 using 10-fold cross-validation.  Use the following features in your model, and don't forget to normalize: CRIM, ZN, RM, AGE, DIS, TAX.  Create a graph that shows how RMSE changes as K increases from 1 to 25.  Label your axes, and summarize what you see.  What do you think is a reasonable choice of K for this model?"
   ]
  },
  {
   "cell_type": "code",
   "execution_count": 536,
   "metadata": {},
   "outputs": [
    {
     "name": "stdout",
     "output_type": "stream",
     "text": [
      "Calculated mean RMSE on Nearest Neighbor algorithm using K =  1 is:  5.69330142236\n",
      "Calculated mean RMSE on Nearest Neighbor algorithm using K =  2 is:  5.32356266795\n",
      "Calculated mean RMSE on Nearest Neighbor algorithm using K =  3 is:  5.20404571983\n",
      "Calculated mean RMSE on Nearest Neighbor algorithm using K =  4 is:  5.11481888949\n",
      "Calculated mean RMSE on Nearest Neighbor algorithm using K =  5 is:  5.21091856886\n",
      "Calculated mean RMSE on Nearest Neighbor algorithm using K =  6 is:  5.23350820201\n",
      "Calculated mean RMSE on Nearest Neighbor algorithm using K =  7 is:  5.25695962631\n",
      "Calculated mean RMSE on Nearest Neighbor algorithm using K =  8 is:  5.27026159586\n",
      "Calculated mean RMSE on Nearest Neighbor algorithm using K =  9 is:  5.37404696813\n",
      "Calculated mean RMSE on Nearest Neighbor algorithm using K =  10 is:  5.4366381314\n",
      "Calculated mean RMSE on Nearest Neighbor algorithm using K =  11 is:  5.46894198504\n",
      "Calculated mean RMSE on Nearest Neighbor algorithm using K =  12 is:  5.51938522203\n",
      "Calculated mean RMSE on Nearest Neighbor algorithm using K =  13 is:  5.5333718717\n",
      "Calculated mean RMSE on Nearest Neighbor algorithm using K =  14 is:  5.58798672034\n",
      "Calculated mean RMSE on Nearest Neighbor algorithm using K =  15 is:  5.61707722576\n",
      "Calculated mean RMSE on Nearest Neighbor algorithm using K =  16 is:  5.6710655186\n",
      "Calculated mean RMSE on Nearest Neighbor algorithm using K =  17 is:  5.71088626125\n",
      "Calculated mean RMSE on Nearest Neighbor algorithm using K =  18 is:  5.7527112526\n",
      "Calculated mean RMSE on Nearest Neighbor algorithm using K =  19 is:  5.79968952132\n",
      "Calculated mean RMSE on Nearest Neighbor algorithm using K =  20 is:  5.83206402057\n",
      "Calculated mean RMSE on Nearest Neighbor algorithm using K =  21 is:  5.82909748554\n",
      "Calculated mean RMSE on Nearest Neighbor algorithm using K =  22 is:  5.86706141114\n",
      "Calculated mean RMSE on Nearest Neighbor algorithm using K =  23 is:  5.88402643473\n",
      "Calculated mean RMSE on Nearest Neighbor algorithm using K =  24 is:  5.91825403381\n",
      "Calculated mean RMSE on Nearest Neighbor algorithm using K =  25 is:  5.95501442486\n",
      "Time taken: 185.28 seconds\n",
      " Grand RMSE array is:  [5.6933014223631364, 5.3235626679498562, 5.2040457198269019, 5.1148188894882436, 5.210918568855015, 5.2335082020109009, 5.2569596263110236, 5.270261595855855, 5.3740469681270495, 5.436638131404564, 5.468941985035821, 5.5193852220258037, 5.533371871700008, 5.5879867203445137, 5.6170772257639898, 5.6710655186002903, 5.7108862612526634, 5.7527112526033601, 5.7996895213224997, 5.8320640205719947, 5.8290974855430928, 5.8670614111407033, 5.8840264347259676, 5.9182540338091938, 5.9550144248632781]\n"
     ]
    }
   ],
   "source": [
    "#\n",
    "# Rewrite the function to accommodate extra features\n",
    "#\n",
    "constant_array = [13,28,43,58,73,88,103,118,133,148,163,178,193,208,223,238,253,268,283,298,313,328,343,358,373]\n",
    "def knn(train_data, test_data, L, K):\n",
    "    sub_array = constant_array[0:K] \n",
    "    # Charu's code begins here\n",
    "    actual = []    \n",
    "    predicted = []\n",
    "    for x in range(len(test_data)):\n",
    "        distances = []\n",
    "        for y in range(len(train_data)):\n",
    "            dist = distance(test_data[x][0:6], train_data[y][0:6], L)\n",
    "            distances.append((test_data[x], train_data[y], [dist]))\n",
    "            distances.sort(key=operator.itemgetter(2))                \n",
    "        z = []\n",
    "        for w in range(K):\n",
    "            z.append(distances[w])        \n",
    "        merged = list(itertools.chain(*z))\n",
    "        merged_again = list(itertools.chain(*merged))\n",
    "        #print(\"merged again: \", merged_again)\n",
    "        actual.append([merged_again[6]])\n",
    "        counter = 0\n",
    "        for q in range(K):\n",
    "            counter = counter + merged_again[sub_array[q]] \n",
    "        predicted_mean = counter/K        \n",
    "        predicted.append([predicted_mean])  \n",
    "    return actual, predicted\n",
    "#\n",
    "# Continued below. \n",
    "#\n",
    "boston['ZN_normalized'] = normalize(boston['ZN'])\n",
    "boston['AGE_normalized'] = normalize(boston['AGE'])\n",
    "boston['DIS_normalized'] = normalize(boston['DIS'])\n",
    "boston['TAX_normalized'] = normalize(boston['TAX'])\n",
    "boston_fold1 = boston[['CRIM_normalized', 'ZN_normalized','RM_normalized', \n",
    "                      'AGE_normalized','DIS_normalized', 'TAX_normalized',\n",
    "                      'target']]\n",
    "dataset = boston_fold1.values\n",
    "k = 10\n",
    "L = 2\n",
    "start_time = time.time()\n",
    "folds = cross_validation_split(dataset, k)\n",
    "grand_mean_rmse = []\n",
    "for K in range(1,26):\n",
    "    mean_rmse = cross_validation_perform_K(folds, k)\n",
    "    grand_mean_rmse.append(mean_rmse)\n",
    "    print(\"Calculated mean RMSE on Nearest Neighbor algorithm using K = \" ,K, \"is: \", mean_rmse)\n",
    "print(\"Time taken: \" + str(round(time.time() - start_time,2)) + \" seconds\")\n",
    "print(\" Grand RMSE array is: \", grand_mean_rmse)\n",
    "#\n",
    "# Refer below for calculated values and time\n",
    "#"
   ]
  },
  {
   "cell_type": "markdown",
   "metadata": {},
   "source": [
    "*Enter your observations here*\n",
    "\n",
    "See at the end   "
   ]
  },
  {
   "cell_type": "code",
   "execution_count": 538,
   "metadata": {},
   "outputs": [
    {
     "data": {
      "image/png": "[encoded data removed]",
      "text/plain": [
       "<matplotlib.figure.Figure at 0x1655ae57a20>"
      ]
     },
     "metadata": {},
     "output_type": "display_data"
    }
   ],
   "source": [
    "#\n",
    "# Create a plot of K vs RMSE\n",
    "#\n",
    "grand_K = []\n",
    "for K in range(1,26):\n",
    "    grand_K.append(K)\n",
    "fig, ax5 = plt.subplots()\n",
    "plt.title(\"Plot of K vs Mean RMSE\")\n",
    "plt.xlabel(\"K (Ranges from 1 to 25)\")\n",
    "plt.ylabel(\"Mean RMSE value\")\n",
    "plt.scatter(grand_K, grand_mean_rmse)\n",
    "ax5.spines['right'].set_visible(False)\n",
    "ax5.spines['top'].set_visible(False)\n",
    "plt.show()\n"
   ]
  },
  {
   "cell_type": "markdown",
   "metadata": {},
   "source": [
    "#### *Enter your observations here*\n",
    "\n",
    "Charu's response -     \n",
    "         \n",
    "As can be seen, mean RMSE gradually improves until K reaches 4, then RMSE goes down \n",
    "as K increases. \n",
    "\n",
    "Based on above graph, optimum value of K is 4.    "
   ]
  },
  {
   "cell_type": "code",
   "execution_count": null,
   "metadata": {
    "collapsed": true
   },
   "outputs": [],
   "source": []
  }
 ],
 "metadata": {
  "kernelspec": {
   "display_name": "Python 3",
   "language": "python",
   "name": "python3"
  },
  "language_info": {
   "codemirror_mode": {
    "name": "ipython",
    "version": 3
   },
   "file_extension": ".py",
   "mimetype": "text/x-python",
   "name": "python",
   "nbconvert_exporter": "python",
   "pygments_lexer": "ipython3",
   "version": "3.6.3"
  }
 },
 "nbformat": 4,
 "nbformat_minor": 1
}
