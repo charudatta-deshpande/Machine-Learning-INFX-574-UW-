{
 "cells": [
  {
   "cell_type": "code",
   "execution_count": 121,
   "metadata": {
    "collapsed": true
   },
   "outputs": [],
   "source": [
    "# Student Name - Charudatta Deshpande\n",
    "#\n",
    "# Collaborators - Ram Ganesan, Charles Hemstreet, Mehdi Muntazir\n",
    "#\n",
    "#############################################\n",
    "# Import required libraries.                # \n",
    "#############################################\n",
    "#\n",
    "import pandas as pd\n",
    "import numpy as np\n",
    "import scipy as sp\n",
    "import networkx as nx\n",
    "from sklearn.preprocessing import normalize\n",
    "from numpy import *\n",
    "import os as os  \n",
    "import time\n",
    "os.chdir('C:\\\\Users\\deshc\\Desktop\\INFX 574 Data Science 2\\Problem Set 2')\n"
   ]
  },
  {
   "cell_type": "code",
   "execution_count": 122,
   "metadata": {
    "collapsed": true
   },
   "outputs": [],
   "source": [
    "#\n",
    "#############################################\n",
    "# Step 1 - Input data. Create the matrix    #\n",
    "# as specified in the assignment.           #  \n",
    "#############################################\n",
    "#\n",
    "A=np.matrix([[1,0,2,0,4,3],[3,0,1,1,0,0],[2,0,4,0,1,0],[0,0,1,0,0,1],[8,0,3,0,5,2],[0,0,0,0,0,0]])\n",
    "#\n",
    "#############################################\n",
    "# Step 2 - Zero out diagonal values         #\n",
    "# as specified in the assignment.           #  \n",
    "#############################################\n",
    "#\n",
    "np.fill_diagonal(A, 0)\n",
    "#\n",
    "#############################################\n",
    "# Step 3 - Normalize the matrix (divide by  # \n",
    "# sum of the column values)                 #\n",
    "# as specified in the assignment.           #  \n",
    "#############################################\n",
    "#\n",
    "H = normalize(A, norm='l1', axis=0)"
   ]
  },
  {
   "cell_type": "code",
   "execution_count": 123,
   "metadata": {
    "collapsed": true
   },
   "outputs": [],
   "source": [
    "#\n",
    "#############################################\n",
    "# Step 4 - Create a dangling node matrix d  # \n",
    "# as specified in the assignment.           #  \n",
    "#############################################\n",
    "#\n",
    "column_sum = H.sum(axis=0) == 0\n",
    "d = 1*column_sum"
   ]
  },
  {
   "cell_type": "code",
   "execution_count": 124,
   "metadata": {
    "collapsed": true
   },
   "outputs": [],
   "source": [
    "#\n",
    "#############################################\n",
    "# Step 5 - Create article vector. For now   # \n",
    "# hardcode this with values specified.      #  \n",
    "#############################################\n",
    "#\n",
    "Art_Vector=np.array([3/14, 2/14, 5/14, 1/14, 2/14, 1/14])"
   ]
  },
  {
   "cell_type": "code",
   "execution_count": 125,
   "metadata": {
    "collapsed": true
   },
   "outputs": [],
   "source": [
    "#\n",
    "#############################################\n",
    "# Step 6 - Create initial start vector.     # \n",
    "# This can be controlled by providing value # \n",
    "# of 'n'.                                   #\n",
    "#############################################\n",
    "#\n",
    "n=H.shape[0]\n",
    "start_vector = np.repeat((1/n), n)"
   ]
  },
  {
   "cell_type": "code",
   "execution_count": 126,
   "metadata": {},
   "outputs": [
    {
     "data": {
      "text/plain": [
       "array([ 0.30402333,  0.1636025 ,  0.1897965 ,  0.04661903,  0.27531131,\n",
       "        0.02064733])"
      ]
     },
     "execution_count": 126,
     "metadata": {},
     "output_type": "execute_result"
    }
   ],
   "source": [
    "#\n",
    "#############################################\n",
    "# Step 7 - Iterate given equation to calcu- #\n",
    "# te influence matrix. Set max_iter to appr.#\n",
    "# value.                                    #\n",
    "#############################################\n",
    "#\n",
    "max_iter = 50\n",
    "alpha = 0.85\n",
    "epsilon = 0.00001\n",
    "\n",
    "def eigen_function(H,d,start_vector,max_iter):\n",
    "    for i in range(max_iter):\n",
    "        prev_start_vector = start_vector\n",
    "        start_vector = (alpha * np.dot(H,start_vector))+ np.dot(((alpha * np.dot(d,start_vector)) + 1 - alpha), Art_Vector)\n",
    "        start_vector_max = np.abs(start_vector).max()\n",
    "        if start_vector_max == 0.0:\n",
    "            start_vector_max = 1.0\n",
    "        err = np.abs(start_vector - prev_start_vector).max() / start_vector_max\n",
    "        if err < epsilon:\n",
    "            return start_vector\n",
    "    return start_vector\n",
    "test_matrix_result = eigen_function(H,d,start_vector,max_iter)\n",
    "test_matrix_result\n",
    "\n"
   ]
  },
  {
   "cell_type": "code",
   "execution_count": 127,
   "metadata": {},
   "outputs": [
    {
     "data": {
      "text/plain": [
       "array([ 34.05082911,  17.2037876 ,  12.17544066,   3.65316819,\n",
       "        32.91677445,   0.        ])"
      ]
     },
     "execution_count": 127,
     "metadata": {},
     "output_type": "execute_result"
    }
   ],
   "source": [
    "#\n",
    "#############################################\n",
    "# Step 8 - Calculate Eigenfactor (EFi) from #\n",
    "# given formula                             #\n",
    "#############################################\n",
    "#\n",
    "B = np.dot(H,test_matrix_result)\n",
    "C = np.sum(B, axis=0) \n",
    "EF = 100*B/C\n",
    "EF"
   ]
  },
  {
   "cell_type": "code",
   "execution_count": 128,
   "metadata": {
    "collapsed": true
   },
   "outputs": [],
   "source": [
    "#\n",
    "#############################################\n",
    "# Step 9 - Read links file                  #\n",
    "# Convert into adjacency matrix             #\n",
    "# Convert NA to zero                        #\n",
    "# Convert to squared pivot table by using   #\n",
    "# reindex function.                         #\n",
    "# The convert to array format.              #\n",
    "#############################################\n",
    "#\n",
    "links = pd.read_csv('links.txt', delimiter=',', header=None).pivot(0,1,2)\n",
    "where_are_NaNs = isnan(links)\n",
    "links[where_are_NaNs] = 0\n",
    "new_links = links\n",
    "index = new_links.index.union(test.columns)\n",
    "new_links = new_links.reindex(index=index, columns=index, fill_value=0)\n",
    "new_links_matrix = new_links.as_matrix()\n",
    "\n"
   ]
  },
  {
   "cell_type": "code",
   "execution_count": 129,
   "metadata": {
    "collapsed": true
   },
   "outputs": [],
   "source": [
    "#\n",
    "#############################################\n",
    "# Step 10 - Zero out diagonal values         #\n",
    "# as specified in the assignment.           #  \n",
    "#############################################\n",
    "#\n",
    "np.fill_diagonal(new_links_matrix, 0)\n",
    "#\n",
    "#############################################\n",
    "# Step 11 - Normalize the matrix (divide by  # \n",
    "# sum of the column values)                 #\n",
    "# as specified in the assignment.           #  \n",
    "#############################################\n",
    "#\n",
    "H = normalize(new_links_matrix, norm='l1', axis=0)\n"
   ]
  },
  {
   "cell_type": "code",
   "execution_count": 130,
   "metadata": {
    "collapsed": true
   },
   "outputs": [],
   "source": [
    "#\n",
    "#############################################\n",
    "# Step 12 - Create a dangling node matrix d  # \n",
    "# as specified in the assignment.           #  \n",
    "#############################################\n",
    "#\n",
    "column_sum = H.sum(axis=0) == 0\n",
    "d = 1*column_sum"
   ]
  },
  {
   "cell_type": "code",
   "execution_count": 131,
   "metadata": {
    "collapsed": true
   },
   "outputs": [],
   "source": [
    "#\n",
    "#############################################\n",
    "# Step 13 - Create article vector. For this # \n",
    "# assume that all journals publish 1 article#  \n",
    "#############################################\n",
    "#\n",
    "n=H.shape[0]\n",
    "Art_Vector=np.repeat((1/n), n)"
   ]
  },
  {
   "cell_type": "code",
   "execution_count": 132,
   "metadata": {
    "collapsed": true
   },
   "outputs": [],
   "source": [
    "#\n",
    "#############################################\n",
    "# Step 14 - Create initial start vector.     # \n",
    "# This can be controlled by providing value # \n",
    "# of 'n'.                                   #\n",
    "#############################################\n",
    "#\n",
    "start_vector = np.repeat((1/n), n)"
   ]
  },
  {
   "cell_type": "code",
   "execution_count": 133,
   "metadata": {},
   "outputs": [
    {
     "name": "stdout",
     "output_type": "stream",
     "text": [
      "Number of Iterations -   33\n",
      "Time taken for completion -   1.843142032623291\n"
     ]
    },
    {
     "data": {
      "text/plain": [
       "array([  8.49864549e-05,   2.05657561e-05,   4.63588916e-04, ...,\n",
       "         5.01720413e-05,   3.85319565e-05,   8.22743469e-05])"
      ]
     },
     "execution_count": 133,
     "metadata": {},
     "output_type": "execute_result"
    }
   ],
   "source": [
    "#\n",
    "#############################################\n",
    "# Step 15 - Iterate given equation to calcu-#\n",
    "# te influence matrix. Set max_iter to appr.#\n",
    "# value.                                    #\n",
    "#############################################\n",
    "#\n",
    "max_iter = 50\n",
    "alpha = 0.85\n",
    "epsilon = 0.00001\n",
    "\n",
    "start_time = time.time()\n",
    "def eigen_function1(H,d,start_vector,max_iter):\n",
    "    counter = 0\n",
    "    for i in range(max_iter):\n",
    "        prev_start_vector = start_vector\n",
    "        counter = counter + 1\n",
    "        start_vector = (alpha * np.dot(H,start_vector))+ np.dot(((alpha * np.dot(d,start_vector)) + 1 - alpha), Art_Vector)\n",
    "        start_vector_max = np.abs(start_vector).max()\n",
    "        if start_vector_max == 0.0:\n",
    "            start_vector_max = 1.0\n",
    "        err = np.abs(start_vector - prev_start_vector).max() / start_vector_max\n",
    "        if err < epsilon:\n",
    "            print(\"Number of Iterations -  \", counter)\n",
    "            return start_vector            \n",
    "    return start_vector\n",
    "links_matrix_result = eigen_function1(H,d,start_vector,max_iter)\n",
    "elapsed_time = time.time() - start_time\n",
    "links_matrix_result\n",
    "print(\"Time taken for completion -  \", elapsed_time)\n",
    "links_matrix_result"
   ]
  },
  {
   "cell_type": "code",
   "execution_count": 134,
   "metadata": {},
   "outputs": [
    {
     "data": {
      "text/plain": [
       "array([ 0.0007564 ,  0.05300762,  0.00736773,  0.00668631,  0.00526172,\n",
       "        0.00396954,  0.00162661,  0.00362065,  0.00174103,  0.01511717,\n",
       "        0.03534588,  0.00764791,  0.00604364,  0.00133588,  0.00657294,\n",
       "        0.04367131,  0.002332  ,  0.00331866,  0.00180398])"
      ]
     },
     "execution_count": 134,
     "metadata": {},
     "output_type": "execute_result"
    }
   ],
   "source": [
    "#\n",
    "#############################################\n",
    "# Step 16 - Calculate Eigenfactor (EFi) from#\n",
    "# given formula                             #\n",
    "#############################################\n",
    "#\n",
    "B = np.dot(H,links_matrix_result)\n",
    "C = np.sum(B, axis=0) \n",
    "EF = 100*B/C\n",
    "EF[1:20]"
   ]
  },
  {
   "cell_type": "code",
   "execution_count": 135,
   "metadata": {},
   "outputs": [
    {
     "data": {
      "text/plain": [
       "array([ 0.24738969,  0.24381262,  0.23516722,  0.226117  ,  0.22524979,\n",
       "        0.21670162,  0.20648099,  0.20143041,  0.18503212,  0.18273964,\n",
       "        0.18076642,  0.17508003,  0.17043871,  0.17019741,  0.16799231,\n",
       "        0.16356693,  0.15073475,  0.1493683 ,  0.14899786])"
      ]
     },
     "execution_count": 135,
     "metadata": {},
     "output_type": "execute_result"
    }
   ],
   "source": [
    "EF[::-1].sort()\n",
    "EF[1:20]"
   ]
  },
  {
   "cell_type": "code",
   "execution_count": null,
   "metadata": {
    "collapsed": true
   },
   "outputs": [],
   "source": []
  }
 ],
 "metadata": {
  "kernelspec": {
   "display_name": "Python 3",
   "language": "python",
   "name": "python3"
  },
  "language_info": {
   "codemirror_mode": {
    "name": "ipython",
    "version": 3
   },
   "file_extension": ".py",
   "mimetype": "text/x-python",
   "name": "python",
   "nbconvert_exporter": "python",
   "pygments_lexer": "ipython3",
   "version": "3.6.3"
  }
 },
 "nbformat": 4,
 "nbformat_minor": 2
}
