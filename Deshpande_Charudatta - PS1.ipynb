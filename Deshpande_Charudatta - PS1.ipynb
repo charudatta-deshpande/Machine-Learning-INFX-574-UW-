{
 "cells": [
  {
   "cell_type": "markdown",
   "metadata": {},
   "source": [
    "###### Problem Set 1, due January 10th at 5:30pm \n",
    "\n",
    "###### Student Name - Charudatta Deshpande \n",
    "\n",
    "###### Collaborators - Ram Ganesan, Charles Hemstreet \n",
    "\n",
    "\n",
    "###Before You Start\n",
    "Make sure to at least take a basic tutorial in the IPython notebook, otherwise you'll be totally lost.  For this problem set, you should download INFX574-PS1.ipynb and the flights.zip dataset from Canvas. Create a local copy of the notebook and rename it LASTNAME_FIRSTNAME-PS1.ipynb. Then edit your renamed file directly in your browser by typing:\n",
    "```\n",
    "ipython notebook <name_of_downloaded_file>\n",
    "```\n",
    "\n",
    "You should also make sure the following libraries load correctly (click on the box below and hit Ctrl-Enter)"
   ]
  },
  {
   "cell_type": "code",
   "execution_count": 4,
   "metadata": {},
   "outputs": [
    {
     "name": "stdout",
     "output_type": "stream",
     "text": [
      "Numpy version:        %6.6s (need at least 1.7.1)\n",
      "SciPy version:        %6.6s (need at least 0.12.0)\n",
      "Pandas version:       %6.6s (need at least 0.11.0)\n",
      "Mapltolib version:    %6.6s (need at least 1.2.1)\n",
      "Scikit-Learn version: %6.6s (need at least 0.13.1)\n"
     ]
    }
   ],
   "source": [
    "# #IPython is what you are using now to run the notebook\n",
    "# import IPython\n",
    "# print \"IPython version:      %6.6s (need at least 1.0)\" % IPython.__version__\n",
    "\n",
    "# Numpy is a library for working with Arrays\n",
    "import numpy as np\n",
    "print( \"Numpy version:        %6.6s (need at least 1.7.1)\" )\n",
    "\n",
    "# SciPy implements many different numerical algorithms\n",
    "import scipy as sp\n",
    "print (\"SciPy version:        %6.6s (need at least 0.12.0)\" )\n",
    "\n",
    "# Pandas makes working with data tables easier\n",
    "import pandas as pd\n",
    "print( \"Pandas version:       %6.6s (need at least 0.11.0)\" )\n",
    "\n",
    "# Module for plotting\n",
    "import matplotlib.pyplot as mpl\n",
    "print( \"Mapltolib version:    %6.6s (need at least 1.2.1)\" )\n",
    "\n",
    "%matplotlib inline\n",
    "\n",
    "# SciKit Learn implements several Machine Learning algorithms\n",
    "import sklearn\n",
    "print (\"Scikit-Learn version: %6.6s (need at least 0.13.1)\" )"
   ]
  },
  {
   "cell_type": "markdown",
   "metadata": {},
   "source": [
    "##About the Problem Set: \n",
    "This is the same problem set used by Emma Spiro in INFX573. The only difference is that instead of doing the problem set in R, you will use Python and the IPython notebook.\n",
    "\n",
    "##Instructions: \n",
    "In this problem set you will perform a basic exploratory analysis on an example dataset, bringing to bear all of your new skills in data manipulation and visualization. You will be required to submit well commented python code, documenting all code used in this problem set, along with a write up answering all questions below. Use figures as appropriate to support your answers, and when required by the problem. \n",
    "This data set uses the NYCFlights13 dataset. You can download the dataset from canvas.\n",
    "Selected questions ask you to answer in multiple ways. Make sure to provide different functions or ways for answering the same question. This will help you see that most data questions can be answered in different ways even with the same software language."
   ]
  },
  {
   "cell_type": "code",
   "execution_count": 5,
   "metadata": {
    "collapsed": true
   },
   "outputs": [],
   "source": [
    "# Import required libraries\n",
    "import pandas as pd\n",
    "import numpy as np\n",
    "import matplotlib.pyplot as plt\n",
    "import os as os # Added by Charu\n",
    "os.chdir('C:\\\\Users\\deshc\\Desktop\\INFX 574 Data Science 2\\Problem Set 1')"
   ]
  },
  {
   "cell_type": "code",
   "execution_count": 6,
   "metadata": {
    "collapsed": true
   },
   "outputs": [],
   "source": [
    "flights_df= pd.read_csv('flights.csv')"
   ]
  },
  {
   "cell_type": "code",
   "execution_count": 7,
   "metadata": {},
   "outputs": [
    {
     "name": "stdout",
     "output_type": "stream",
     "text": [
      "(336776, 17)\n",
      "Index(['Unnamed: 0', 'year', 'month', 'day', 'dep_time', 'dep_delay',\n",
      "       'arr_time', 'arr_delay', 'carrier', 'tailnum', 'flight', 'origin',\n",
      "       'dest', 'air_time', 'distance', 'hour', 'minute'],\n",
      "      dtype='object')\n",
      "Unnamed: 0      int64\n",
      "year            int64\n",
      "month           int64\n",
      "day             int64\n",
      "dep_time      float64\n",
      "dep_delay     float64\n",
      "arr_time      float64\n",
      "arr_delay     float64\n",
      "carrier        object\n",
      "tailnum        object\n",
      "flight          int64\n",
      "origin         object\n",
      "dest           object\n",
      "air_time      float64\n",
      "distance        int64\n",
      "hour          float64\n",
      "minute        float64\n",
      "dtype: object\n"
     ]
    }
   ],
   "source": [
    "print (flights_df.shape)\n",
    "print (flights_df.columns)\n",
    "print (flights_df.dtypes)"
   ]
  },
  {
   "cell_type": "code",
   "execution_count": 8,
   "metadata": {},
   "outputs": [
    {
     "name": "stdout",
     "output_type": "stream",
     "text": [
      "['IAH' 'MIA' 'BQN' 'ATL' 'ORD' 'FLL' 'IAD' 'MCO' 'PBI' 'TPA' 'LAX' 'SFO'\n",
      " 'DFW' 'BOS' 'LAS' 'MSP' 'DTW' 'RSW' 'SJU' 'PHX' 'BWI' 'CLT' 'BUF' 'DEN'\n",
      " 'SNA' 'MSY' 'SLC' 'XNA' 'MKE' 'SEA' 'ROC' 'SYR' 'SRQ' 'RDU' 'CMH' 'JAX'\n",
      " 'CHS' 'MEM' 'PIT' 'SAN' 'DCA' 'CLE' 'STL' 'MYR' 'JAC' 'MDW' 'HNL' 'BNA'\n",
      " 'AUS' 'BTV' 'PHL' 'STT' 'EGE' 'AVL' 'PWM' 'IND' 'SAV' 'CAK' 'HOU' 'LGB'\n",
      " 'DAY' 'ALB' 'BDL' 'MHT' 'MSN' 'GSO' 'CVG' 'BUR' 'RIC' 'GSP' 'GRR' 'MCI'\n",
      " 'ORF' 'SAT' 'SDF' 'PDX' 'SJC' 'OMA' 'CRW' 'OAK' 'SMF' 'TUL' 'TYS' 'OKC'\n",
      " 'PVD' 'DSM' 'PSE' 'BHM' 'CAE' 'HDN' 'BZN' 'MTJ' 'EYW' 'PSP' 'ACK' 'BGR'\n",
      " 'ABQ' 'ILM' 'MVY' 'SBN' 'LEX' 'CHO' 'TVC' 'ANC' 'LGA']\n"
     ]
    },
    {
     "data": {
      "text/html": [
       "<div>\n",
       "<style>\n",
       "    .dataframe thead tr:only-child th {\n",
       "        text-align: right;\n",
       "    }\n",
       "\n",
       "    .dataframe thead th {\n",
       "        text-align: left;\n",
       "    }\n",
       "\n",
       "    .dataframe tbody tr th {\n",
       "        vertical-align: top;\n",
       "    }\n",
       "</style>\n",
       "<table border=\"1\" class=\"dataframe\">\n",
       "  <thead>\n",
       "    <tr style=\"text-align: right;\">\n",
       "      <th></th>\n",
       "      <th>Unnamed: 0</th>\n",
       "      <th>year</th>\n",
       "      <th>month</th>\n",
       "      <th>day</th>\n",
       "      <th>dep_time</th>\n",
       "      <th>dep_delay</th>\n",
       "      <th>arr_time</th>\n",
       "      <th>arr_delay</th>\n",
       "      <th>carrier</th>\n",
       "      <th>tailnum</th>\n",
       "      <th>flight</th>\n",
       "      <th>origin</th>\n",
       "      <th>dest</th>\n",
       "      <th>air_time</th>\n",
       "      <th>distance</th>\n",
       "      <th>hour</th>\n",
       "      <th>minute</th>\n",
       "    </tr>\n",
       "  </thead>\n",
       "  <tbody>\n",
       "    <tr>\n",
       "      <th>0</th>\n",
       "      <td>1</td>\n",
       "      <td>2013</td>\n",
       "      <td>1</td>\n",
       "      <td>1</td>\n",
       "      <td>517.0</td>\n",
       "      <td>2.0</td>\n",
       "      <td>830.0</td>\n",
       "      <td>11.0</td>\n",
       "      <td>UA</td>\n",
       "      <td>N14228</td>\n",
       "      <td>1545</td>\n",
       "      <td>EWR</td>\n",
       "      <td>IAH</td>\n",
       "      <td>227.0</td>\n",
       "      <td>1400</td>\n",
       "      <td>5.0</td>\n",
       "      <td>17.0</td>\n",
       "    </tr>\n",
       "    <tr>\n",
       "      <th>1</th>\n",
       "      <td>2</td>\n",
       "      <td>2013</td>\n",
       "      <td>1</td>\n",
       "      <td>1</td>\n",
       "      <td>533.0</td>\n",
       "      <td>4.0</td>\n",
       "      <td>850.0</td>\n",
       "      <td>20.0</td>\n",
       "      <td>UA</td>\n",
       "      <td>N24211</td>\n",
       "      <td>1714</td>\n",
       "      <td>LGA</td>\n",
       "      <td>IAH</td>\n",
       "      <td>227.0</td>\n",
       "      <td>1416</td>\n",
       "      <td>5.0</td>\n",
       "      <td>33.0</td>\n",
       "    </tr>\n",
       "    <tr>\n",
       "      <th>2</th>\n",
       "      <td>3</td>\n",
       "      <td>2013</td>\n",
       "      <td>1</td>\n",
       "      <td>1</td>\n",
       "      <td>542.0</td>\n",
       "      <td>2.0</td>\n",
       "      <td>923.0</td>\n",
       "      <td>33.0</td>\n",
       "      <td>AA</td>\n",
       "      <td>N619AA</td>\n",
       "      <td>1141</td>\n",
       "      <td>JFK</td>\n",
       "      <td>MIA</td>\n",
       "      <td>160.0</td>\n",
       "      <td>1089</td>\n",
       "      <td>5.0</td>\n",
       "      <td>42.0</td>\n",
       "    </tr>\n",
       "    <tr>\n",
       "      <th>3</th>\n",
       "      <td>4</td>\n",
       "      <td>2013</td>\n",
       "      <td>1</td>\n",
       "      <td>1</td>\n",
       "      <td>544.0</td>\n",
       "      <td>-1.0</td>\n",
       "      <td>1004.0</td>\n",
       "      <td>-18.0</td>\n",
       "      <td>B6</td>\n",
       "      <td>N804JB</td>\n",
       "      <td>725</td>\n",
       "      <td>JFK</td>\n",
       "      <td>BQN</td>\n",
       "      <td>183.0</td>\n",
       "      <td>1576</td>\n",
       "      <td>5.0</td>\n",
       "      <td>44.0</td>\n",
       "    </tr>\n",
       "    <tr>\n",
       "      <th>4</th>\n",
       "      <td>5</td>\n",
       "      <td>2013</td>\n",
       "      <td>1</td>\n",
       "      <td>1</td>\n",
       "      <td>554.0</td>\n",
       "      <td>-6.0</td>\n",
       "      <td>812.0</td>\n",
       "      <td>-25.0</td>\n",
       "      <td>DL</td>\n",
       "      <td>N668DN</td>\n",
       "      <td>461</td>\n",
       "      <td>LGA</td>\n",
       "      <td>ATL</td>\n",
       "      <td>116.0</td>\n",
       "      <td>762</td>\n",
       "      <td>5.0</td>\n",
       "      <td>54.0</td>\n",
       "    </tr>\n",
       "    <tr>\n",
       "      <th>5</th>\n",
       "      <td>6</td>\n",
       "      <td>2013</td>\n",
       "      <td>1</td>\n",
       "      <td>1</td>\n",
       "      <td>554.0</td>\n",
       "      <td>-4.0</td>\n",
       "      <td>740.0</td>\n",
       "      <td>12.0</td>\n",
       "      <td>UA</td>\n",
       "      <td>N39463</td>\n",
       "      <td>1696</td>\n",
       "      <td>EWR</td>\n",
       "      <td>ORD</td>\n",
       "      <td>150.0</td>\n",
       "      <td>719</td>\n",
       "      <td>5.0</td>\n",
       "      <td>54.0</td>\n",
       "    </tr>\n",
       "    <tr>\n",
       "      <th>6</th>\n",
       "      <td>7</td>\n",
       "      <td>2013</td>\n",
       "      <td>1</td>\n",
       "      <td>1</td>\n",
       "      <td>555.0</td>\n",
       "      <td>-5.0</td>\n",
       "      <td>913.0</td>\n",
       "      <td>19.0</td>\n",
       "      <td>B6</td>\n",
       "      <td>N516JB</td>\n",
       "      <td>507</td>\n",
       "      <td>EWR</td>\n",
       "      <td>FLL</td>\n",
       "      <td>158.0</td>\n",
       "      <td>1065</td>\n",
       "      <td>5.0</td>\n",
       "      <td>55.0</td>\n",
       "    </tr>\n",
       "    <tr>\n",
       "      <th>7</th>\n",
       "      <td>8</td>\n",
       "      <td>2013</td>\n",
       "      <td>1</td>\n",
       "      <td>1</td>\n",
       "      <td>557.0</td>\n",
       "      <td>-3.0</td>\n",
       "      <td>709.0</td>\n",
       "      <td>-14.0</td>\n",
       "      <td>EV</td>\n",
       "      <td>N829AS</td>\n",
       "      <td>5708</td>\n",
       "      <td>LGA</td>\n",
       "      <td>IAD</td>\n",
       "      <td>53.0</td>\n",
       "      <td>229</td>\n",
       "      <td>5.0</td>\n",
       "      <td>57.0</td>\n",
       "    </tr>\n",
       "    <tr>\n",
       "      <th>8</th>\n",
       "      <td>9</td>\n",
       "      <td>2013</td>\n",
       "      <td>1</td>\n",
       "      <td>1</td>\n",
       "      <td>557.0</td>\n",
       "      <td>-3.0</td>\n",
       "      <td>838.0</td>\n",
       "      <td>-8.0</td>\n",
       "      <td>B6</td>\n",
       "      <td>N593JB</td>\n",
       "      <td>79</td>\n",
       "      <td>JFK</td>\n",
       "      <td>MCO</td>\n",
       "      <td>140.0</td>\n",
       "      <td>944</td>\n",
       "      <td>5.0</td>\n",
       "      <td>57.0</td>\n",
       "    </tr>\n",
       "    <tr>\n",
       "      <th>9</th>\n",
       "      <td>10</td>\n",
       "      <td>2013</td>\n",
       "      <td>1</td>\n",
       "      <td>1</td>\n",
       "      <td>558.0</td>\n",
       "      <td>-2.0</td>\n",
       "      <td>753.0</td>\n",
       "      <td>8.0</td>\n",
       "      <td>AA</td>\n",
       "      <td>N3ALAA</td>\n",
       "      <td>301</td>\n",
       "      <td>LGA</td>\n",
       "      <td>ORD</td>\n",
       "      <td>138.0</td>\n",
       "      <td>733</td>\n",
       "      <td>5.0</td>\n",
       "      <td>58.0</td>\n",
       "    </tr>\n",
       "  </tbody>\n",
       "</table>\n",
       "</div>"
      ],
      "text/plain": [
       "   Unnamed: 0  year  month  day  dep_time  dep_delay  arr_time  arr_delay  \\\n",
       "0           1  2013      1    1     517.0        2.0     830.0       11.0   \n",
       "1           2  2013      1    1     533.0        4.0     850.0       20.0   \n",
       "2           3  2013      1    1     542.0        2.0     923.0       33.0   \n",
       "3           4  2013      1    1     544.0       -1.0    1004.0      -18.0   \n",
       "4           5  2013      1    1     554.0       -6.0     812.0      -25.0   \n",
       "5           6  2013      1    1     554.0       -4.0     740.0       12.0   \n",
       "6           7  2013      1    1     555.0       -5.0     913.0       19.0   \n",
       "7           8  2013      1    1     557.0       -3.0     709.0      -14.0   \n",
       "8           9  2013      1    1     557.0       -3.0     838.0       -8.0   \n",
       "9          10  2013      1    1     558.0       -2.0     753.0        8.0   \n",
       "\n",
       "  carrier tailnum  flight origin dest  air_time  distance  hour  minute  \n",
       "0      UA  N14228    1545    EWR  IAH     227.0      1400   5.0    17.0  \n",
       "1      UA  N24211    1714    LGA  IAH     227.0      1416   5.0    33.0  \n",
       "2      AA  N619AA    1141    JFK  MIA     160.0      1089   5.0    42.0  \n",
       "3      B6  N804JB     725    JFK  BQN     183.0      1576   5.0    44.0  \n",
       "4      DL  N668DN     461    LGA  ATL     116.0       762   5.0    54.0  \n",
       "5      UA  N39463    1696    EWR  ORD     150.0       719   5.0    54.0  \n",
       "6      B6  N516JB     507    EWR  FLL     158.0      1065   5.0    55.0  \n",
       "7      EV  N829AS    5708    LGA  IAD      53.0       229   5.0    57.0  \n",
       "8      B6  N593JB      79    JFK  MCO     140.0       944   5.0    57.0  \n",
       "9      AA  N3ALAA     301    LGA  ORD     138.0       733   5.0    58.0  "
      ]
     },
     "execution_count": 8,
     "metadata": {},
     "output_type": "execute_result"
    }
   ],
   "source": [
    "# This code \n",
    "a = flights_df.dest.unique()\n",
    "print(a)\n",
    "flights_df.head(10)\n"
   ]
  },
  {
   "cell_type": "markdown",
   "metadata": {},
   "source": [
    "##Some Tips\n",
    "\n",
    "* This assignment involves extensive Data frame splitting and aggregation. You should look into the details of the methods groupby, transform, sum, count, mean etc\n",
    "* Many of the tasks in the assignment can be done either through the Pandas Data Frame or by converting the data frames to Series. Many of the methods in the numpy are applicable to Series only. When stuck, try to explore the type of object (Pandas Data Frame or Numpy Series) you are dealing with."
   ]
  },
  {
   "cell_type": "markdown",
   "metadata": {},
   "source": [
    "##Question 1\n",
    "Let’s explore flights from NYC to Seattle. Use the flights dataset to answer the following questions.\n",
    "\n",
    "(a) How many flights were there from NYC airports to Seattle in 2013?"
   ]
  },
  {
   "cell_type": "code",
   "execution_count": 9,
   "metadata": {},
   "outputs": [
    {
     "data": {
      "text/plain": [
       "3923"
      ]
     },
     "execution_count": 9,
     "metadata": {},
     "output_type": "execute_result"
    }
   ],
   "source": [
    "# Your code here\n",
    "flights_df1=flights_df[ flights_df.dest=='SEA']\n",
    "flights_df1.shape[0]"
   ]
  },
  {
   "cell_type": "markdown",
   "metadata": {},
   "source": [
    " -- Write your answer in English here -- \n",
    " \n",
    " There were 3923 flights from NYC area airports to Seattle in 2013. "
   ]
  },
  {
   "cell_type": "markdown",
   "metadata": {},
   "source": [
    "(b) How many airlines fly from NYC to Seattle?"
   ]
  },
  {
   "cell_type": "code",
   "execution_count": 10,
   "metadata": {},
   "outputs": [
    {
     "name": "stdout",
     "output_type": "stream",
     "text": [
      "Total airlines from NYC to SEA are :  5\n",
      "They are : ['AS' 'DL' 'UA' 'B6' 'AA']\n"
     ]
    }
   ],
   "source": [
    "# Your code here\n",
    "# Identiy unique carriers and print their values\n",
    "carriersN_to_seattle = flights_df1.carrier.unique()\n",
    "a=carriersN_to_seattle.shape[0]\n",
    "print(\"Total airlines from NYC to SEA are : \" , a)\n",
    "print(\"They are :\", carriersN_to_seattle)"
   ]
  },
  {
   "cell_type": "markdown",
   "metadata": {},
   "source": [
    " -- Write your answer in English here -- \n",
    " \n",
    " Total airlines from NYC to SEA are :  5\n",
    "They are : ['AS' 'DL' 'UA' 'B6' 'AA']"
   ]
  },
  {
   "cell_type": "markdown",
   "metadata": {},
   "source": [
    "(c) How many unique air planes fly from NYC to Seattle?"
   ]
  },
  {
   "cell_type": "code",
   "execution_count": 11,
   "metadata": {},
   "outputs": [
    {
     "data": {
      "text/plain": [
       "935"
      ]
     },
     "execution_count": 11,
     "metadata": {},
     "output_type": "execute_result"
    }
   ],
   "source": [
    "# Your code here\n",
    "# Find number of entries with unique tail number. \n",
    "# This will return the number of unique air planes. \n",
    "flights_df1['tailnum'].nunique()\n"
   ]
  },
  {
   "cell_type": "markdown",
   "metadata": {},
   "source": [
    " -- Write your answer in English here -- \n",
    " \n",
    " A total of 935 unique air planes flew from NYC area to Seattle in 2013. "
   ]
  },
  {
   "cell_type": "markdown",
   "metadata": {},
   "source": [
    "(d) What is the average arrival delay for flights from NC to Seattle?"
   ]
  },
  {
   "cell_type": "code",
   "execution_count": 12,
   "metadata": {},
   "outputs": [
    {
     "data": {
      "text/plain": [
       "-1.0990990990990992"
      ]
     },
     "execution_count": 12,
     "metadata": {},
     "output_type": "execute_result"
    }
   ],
   "source": [
    "# Your code here\n",
    "# Find mean arrival delay. \n",
    "flights_df1['arr_delay'].mean()"
   ]
  },
  {
   "cell_type": "markdown",
   "metadata": {},
   "source": [
    " -- Write your answer in English here -- \n",
    " \n",
    " Mean arrival delay from NYC to Seattle flights is -1.099 minutes. This means\n",
    " flights to Seattle are actually early (negative delay). "
   ]
  },
  {
   "cell_type": "markdown",
   "metadata": {},
   "source": [
    "(e) What proportion of flights to Seattle come from each NYC airport? Provide multiple ways of answering the question."
   ]
  },
  {
   "cell_type": "code",
   "execution_count": 57,
   "metadata": {},
   "outputs": [
    {
     "name": "stdout",
     "output_type": "stream",
     "text": [
      "method one:\n",
      "EWR :  46.67 %\n",
      "JFK :  53.33 %\n",
      "method two:\n",
      "EWR percent:  46.67 %\n",
      "JFK percent:  53.33 %\n"
     ]
    }
   ],
   "source": [
    "# Your code here\n",
    "\n",
    "#total flights from NYC to SEA\n",
    "\n",
    "cnt_SEA = flights_df1.shape[0]\n",
    "\n",
    "# find unique origins\n",
    "\n",
    "nyc_origins = flights_df1['origin'].unique()\n",
    "\n",
    "# print(nyc_origins)\n",
    "\n",
    "print(\"method one:\")\n",
    "for i in nyc_origins:\n",
    "    x=(flights_df1[flights_df1['origin']==i].shape[0])\n",
    "    print(i,\": \",round(100*x/cnt_SEA,2),\"%\")\n",
    "    \n",
    "#-------- Second method - use value counts # \n",
    "\n",
    "JFK = flights_df1['origin'].value_counts()[0]\n",
    "EWR = flights_df1['origin'].value_counts()[1]\n",
    "Total = JFK + EWR\n",
    "EWR_percent = EWR * 100/Total\n",
    "JFK_percent = JFK * 100/Total\n",
    "print(\"method two:\")\n",
    "print(\"EWR percent: \", round(EWR_percent,2),\"%\")\n",
    "print(\"JFK percent: \", round(JFK_percent,2),\"%\")"
   ]
  },
  {
   "cell_type": "markdown",
   "metadata": {},
   "source": [
    " -- Write your answer in English here -- \n",
    " \n",
    "EWR percent:  46.67 %\n",
    "JFK percent:  53.33 %"
   ]
  },
  {
   "cell_type": "markdown",
   "metadata": {},
   "source": [
    "## Question 2\n",
    "Flights are often delayed. Consider the following questions exploring delay patterns.\n",
    "\n",
    "(a) Which date has the largest average departure delay? Which date has the largest average arrival delay?"
   ]
  },
  {
   "cell_type": "code",
   "execution_count": 65,
   "metadata": {},
   "outputs": [
    {
     "name": "stdout",
     "output_type": "stream",
     "text": [
      "year  month  day\n",
      "2013  3      8      83.536921\n",
      "Name: dep_delay, dtype: float64\n",
      "year  month  day\n",
      "2013  3      8      85.862155\n",
      "Name: arr_delay, dtype: float64\n"
     ]
    }
   ],
   "source": [
    "# Your code here\n",
    "avg_by_date = pd.DataFrame(flights_df.groupby(['year', 'month', 'day']).mean())\n",
    "y =avg_by_date.sort_values(['dep_delay'], ascending = False)['dep_delay'].head(1)\n",
    "x =avg_by_date.sort_values(['arr_delay'], ascending = False)['arr_delay'].head(1)\n",
    "print(y) \n",
    "print(x)"
   ]
  },
  {
   "cell_type": "markdown",
   "metadata": {},
   "source": [
    " -- Write your answer in English here -- \n",
    " \n",
    " March 8, 2013 is the day with largest arrival and departure delays. "
   ]
  },
  {
   "cell_type": "markdown",
   "metadata": {},
   "source": [
    "(b) What was the worst day to fly out of NYC in 2013 if you dislike delayed flights?\n"
   ]
  },
  {
   "cell_type": "code",
   "execution_count": 66,
   "metadata": {},
   "outputs": [
    {
     "name": "stdout",
     "output_type": "stream",
     "text": [
      "                dep_delay\n",
      "year month day           \n",
      "2013 12    23         674\n"
     ]
    }
   ],
   "source": [
    "# Your code here\n",
    "# Create a dataframe of delayed flights\n",
    "Delayed_Flights = flights_df.loc[:,[\"year\",\"month\",\"day\",\"dep_delay\"]][flights_df[\"dep_delay\"]>0]\n",
    "del_by_date = Delayed_Flights.groupby(['year', 'month', 'day']).count()\n",
    "# Calculate max departure delay\n",
    "max_del_cnt = max(del_by_date[\"dep_delay\"])\n",
    "print(del_by_date[del_by_date[\"dep_delay\"]==max_del_cnt])"
   ]
  },
  {
   "cell_type": "markdown",
   "metadata": {},
   "source": [
    " -- Write your answer in English here -- \n",
    " \n",
    " December 23rd, 2013 was the worst day to fly out of NYC. This could be attributed to holiday time. "
   ]
  },
  {
   "cell_type": "markdown",
   "metadata": {},
   "source": [
    "(c) Are there any seasonal patterns in departure delays for flights from NYC?"
   ]
  },
  {
   "cell_type": "code",
   "execution_count": 67,
   "metadata": {},
   "outputs": [
    {
     "data": {
      "image/png": "[encoded data removed]",
      "text/plain": [
       "<matplotlib.figure.Figure at 0x1a062cc2b00>"
      ]
     },
     "metadata": {},
     "output_type": "display_data"
    }
   ],
   "source": [
    "# Your code here\n",
    "# Create a plot of delay by month\n",
    "df_by_month = flights_df.loc[:,[\"month\",\"dep_delay\"]][flights_df[\"dep_delay\"]>0].groupby('month').count()\n",
    "p=df_by_month.plot(kind='bar', title=\"Flights Delayed By Month\")"
   ]
  },
  {
   "cell_type": "markdown",
   "metadata": {},
   "source": [
    " -- Write your answer in English here -- \n",
    " \n",
    " The delay seems to be more during holiday time (Dec, Jan) and Summer time (June thru August)"
   ]
  },
  {
   "cell_type": "markdown",
   "metadata": {},
   "source": [
    "(d) On average, how do departure delays vary over the course of a day?"
   ]
  },
  {
   "cell_type": "code",
   "execution_count": 69,
   "metadata": {},
   "outputs": [
    {
     "data": {
      "text/plain": [
       "Text(0,0.5,'% of Flights Delayed')"
      ]
     },
     "execution_count": 69,
     "metadata": {},
     "output_type": "execute_result"
    },
    {
     "data": {
      "image/png": "[encoded data removed]",
      "text/plain": [
       "<matplotlib.figure.Figure at 0x1a063339048>"
      ]
     },
     "metadata": {},
     "output_type": "display_data"
    }
   ],
   "source": [
    "# Your code here\n",
    "# Group the data by hour and calculate average delay\n",
    "df_by_hour = flights_df.loc[:,[\"hour\",\"dep_delay\"]].groupby('hour').count()\n",
    "df_by_hour.rename(columns={'dep_delay': 'Total_Flights'}, inplace=True)\n",
    "df_by_hour_del = flights_df.loc[:,[\"hour\",\"dep_delay\"]][flights_df[\"dep_delay\"]>0].groupby('hour').count()\n",
    "df_by_hour_del.rename(columns={'dep_delay': 'Total_Delayed_Flights'}, inplace=True)\n",
    "# Join two data frames (hour and delay) to create a single data frame and plot a bar chart. \n",
    "df_join=df_by_hour.join(df_by_hour_del,how='left')\n",
    "df_join[\"Percent_Delayed\"] = round(100*df_join[\"Total_Delayed_Flights\"].div(df_join[\"Total_Flights\"]),2)\n",
    "p=df_join.Percent_Delayed.plot(kind='bar', title=\"Flights Delayed By hour\",color=\"blue\")\n",
    "p.set_ylabel('% of Flights Delayed')"
   ]
  },
  {
   "cell_type": "markdown",
   "metadata": {},
   "source": [
    " -- Write your answer in English here -- \n",
    " \n",
    "We note that - \n",
    "\n",
    "Percent of Flight delays increase as the day progresses.\n",
    "Percent of Flight delays are worst in late night hours. This could be possibly due to understaffing \n",
    "at late hours in the night. "
   ]
  },
  {
   "cell_type": "markdown",
   "metadata": {},
   "source": [
    "## Question 3\n",
    "    Which flight departing NYC in 2013 flew the fastest?"
   ]
  },
  {
   "cell_type": "code",
   "execution_count": 70,
   "metadata": {},
   "outputs": [
    {
     "name": "stdout",
     "output_type": "stream",
     "text": [
      "        Unnamed: 0  year  month  day  dep_time  dep_delay  arr_time  \\\n",
      "216447      216448  2013      5   25    1709.0        9.0    1923.0   \n",
      "\n",
      "        arr_delay carrier tailnum  flight origin dest  air_time  distance  \\\n",
      "216447      -14.0      DL  N666DN    1499    LGA  ATL      65.0       762   \n",
      "\n",
      "        hour  minute       speed  \n",
      "216447  17.0     9.0  703.384615  \n"
     ]
    }
   ],
   "source": [
    "# Your code here\n",
    "# Calculate speed based on distance and air time. \n",
    "flights_df['speed'] = flights_df['distance'] / (flights_df['air_time']/60)\n",
    "Fastest_flight = flights_df[(flights_df['speed'] == flights_df['speed'].max())]\n",
    "print(Fastest_flight)"
   ]
  },
  {
   "cell_type": "markdown",
   "metadata": {},
   "source": [
    " -- Write your answer in English here -- \n",
    " \n",
    " The flight from LGA to ATL on May 25, 2013 (flight number 1499) was the fastest. "
   ]
  },
  {
   "cell_type": "markdown",
   "metadata": {},
   "source": [
    "## Question 4\n",
    "Which flights (i.e. carrier + flight + dest) happen every day? Where do they fly to?"
   ]
  },
  {
   "cell_type": "code",
   "execution_count": 75,
   "metadata": {},
   "outputs": [
    {
     "data": {
      "text/html": [
       "<div>\n",
       "<style>\n",
       "    .dataframe thead tr:only-child th {\n",
       "        text-align: right;\n",
       "    }\n",
       "\n",
       "    .dataframe thead th {\n",
       "        text-align: left;\n",
       "    }\n",
       "\n",
       "    .dataframe tbody tr th {\n",
       "        vertical-align: top;\n",
       "    }\n",
       "</style>\n",
       "<table border=\"1\" class=\"dataframe\">\n",
       "  <thead>\n",
       "    <tr style=\"text-align: right;\">\n",
       "      <th></th>\n",
       "      <th>carrier</th>\n",
       "      <th>flight</th>\n",
       "      <th>dest</th>\n",
       "    </tr>\n",
       "  </thead>\n",
       "  <tbody>\n",
       "    <tr>\n",
       "      <th>767</th>\n",
       "      <td>AA</td>\n",
       "      <td>59</td>\n",
       "      <td>SFO</td>\n",
       "    </tr>\n",
       "    <tr>\n",
       "      <th>775</th>\n",
       "      <td>AA</td>\n",
       "      <td>119</td>\n",
       "      <td>LAX</td>\n",
       "    </tr>\n",
       "    <tr>\n",
       "      <th>783</th>\n",
       "      <td>AA</td>\n",
       "      <td>181</td>\n",
       "      <td>LAX</td>\n",
       "    </tr>\n",
       "    <tr>\n",
       "      <th>904</th>\n",
       "      <td>AA</td>\n",
       "      <td>1357</td>\n",
       "      <td>SJU</td>\n",
       "    </tr>\n",
       "    <tr>\n",
       "      <th>914</th>\n",
       "      <td>AA</td>\n",
       "      <td>1611</td>\n",
       "      <td>MIA</td>\n",
       "    </tr>\n",
       "    <tr>\n",
       "      <th>1118</th>\n",
       "      <td>B6</td>\n",
       "      <td>219</td>\n",
       "      <td>CLT</td>\n",
       "    </tr>\n",
       "    <tr>\n",
       "      <th>1147</th>\n",
       "      <td>B6</td>\n",
       "      <td>359</td>\n",
       "      <td>BUR</td>\n",
       "    </tr>\n",
       "    <tr>\n",
       "      <th>1150</th>\n",
       "      <td>B6</td>\n",
       "      <td>371</td>\n",
       "      <td>FLL</td>\n",
       "    </tr>\n",
       "    <tr>\n",
       "      <th>1169</th>\n",
       "      <td>B6</td>\n",
       "      <td>431</td>\n",
       "      <td>SRQ</td>\n",
       "    </tr>\n",
       "    <tr>\n",
       "      <th>1243</th>\n",
       "      <td>B6</td>\n",
       "      <td>703</td>\n",
       "      <td>SJU</td>\n",
       "    </tr>\n",
       "    <tr>\n",
       "      <th>1379</th>\n",
       "      <td>B6</td>\n",
       "      <td>1783</td>\n",
       "      <td>MCO</td>\n",
       "    </tr>\n",
       "    <tr>\n",
       "      <th>2012</th>\n",
       "      <td>DL</td>\n",
       "      <td>2159</td>\n",
       "      <td>MCO</td>\n",
       "    </tr>\n",
       "    <tr>\n",
       "      <th>2081</th>\n",
       "      <td>DL</td>\n",
       "      <td>2391</td>\n",
       "      <td>TPA</td>\n",
       "    </tr>\n",
       "    <tr>\n",
       "      <th>4631</th>\n",
       "      <td>EV</td>\n",
       "      <td>5712</td>\n",
       "      <td>IAD</td>\n",
       "    </tr>\n",
       "    <tr>\n",
       "      <th>5116</th>\n",
       "      <td>UA</td>\n",
       "      <td>15</td>\n",
       "      <td>HNL</td>\n",
       "    </tr>\n",
       "    <tr>\n",
       "      <th>10607</th>\n",
       "      <td>VX</td>\n",
       "      <td>251</td>\n",
       "      <td>LAS</td>\n",
       "    </tr>\n",
       "    <tr>\n",
       "      <th>10609</th>\n",
       "      <td>VX</td>\n",
       "      <td>407</td>\n",
       "      <td>LAX</td>\n",
       "    </tr>\n",
       "    <tr>\n",
       "      <th>10613</th>\n",
       "      <td>VX</td>\n",
       "      <td>413</td>\n",
       "      <td>LAX</td>\n",
       "    </tr>\n",
       "  </tbody>\n",
       "</table>\n",
       "</div>"
      ],
      "text/plain": [
       "      carrier  flight dest\n",
       "767        AA      59  SFO\n",
       "775        AA     119  LAX\n",
       "783        AA     181  LAX\n",
       "904        AA    1357  SJU\n",
       "914        AA    1611  MIA\n",
       "1118       B6     219  CLT\n",
       "1147       B6     359  BUR\n",
       "1150       B6     371  FLL\n",
       "1169       B6     431  SRQ\n",
       "1243       B6     703  SJU\n",
       "1379       B6    1783  MCO\n",
       "2012       DL    2159  MCO\n",
       "2081       DL    2391  TPA\n",
       "4631       EV    5712  IAD\n",
       "5116       UA      15  HNL\n",
       "10607      VX     251  LAS\n",
       "10609      VX     407  LAX\n",
       "10613      VX     413  LAX"
      ]
     },
     "execution_count": 75,
     "metadata": {},
     "output_type": "execute_result"
    }
   ],
   "source": [
    "# Your code here\n",
    "\n",
    "# find carrier and flight combination that happens each day of the year\n",
    "flightdata = flights_df.loc[:,[\"carrier\",\"flight\", \"dest\", \"year\",\"month\",\"day\" ]]\n",
    "\n",
    "# Ignore duplicates, just keep first record\n",
    "flightdata = flightdata.drop_duplicates(subset=None, keep='first', inplace=False)\n",
    "flightdata = flightdata.groupby(['carrier','flight','dest']).count().reset_index()\n",
    "funiquelightdata = flightdata[(flightdata['year'] == 365)]\n",
    "\n",
    "# print the data in tabular format. \n",
    "funiquelightdata = funiquelightdata.loc[:,['carrier','flight','dest']]\n",
    "funiquelightdata"
   ]
  },
  {
   "cell_type": "markdown",
   "metadata": {},
   "source": [
    " -- Write your answer in English here -- \n",
    " \n",
    " Above chart represents the 18 flights that fly every day. The destinations are printed. "
   ]
  },
  {
   "cell_type": "markdown",
   "metadata": {},
   "source": [
    "## Question 5\n",
    "Develop one research question you can address using the nycflights2013 dataset. Provide two visualizations to support your exploration of this question. Discuss what you find.\n"
   ]
  },
  {
   "cell_type": "code",
   "execution_count": 76,
   "metadata": {},
   "outputs": [
    {
     "data": {
      "text/plain": [
       "[<matplotlib.lines.Line2D at 0x1a065fbd8d0>]"
      ]
     },
     "execution_count": 76,
     "metadata": {},
     "output_type": "execute_result"
    },
    {
     "data": {
      "image/png": "[encoded data removed]",
      "text/plain": [
       "<matplotlib.figure.Figure at 0x1a0660ab710>"
      ]
     },
     "metadata": {},
     "output_type": "display_data"
    },
    {
     "data": {
      "image/png": "[encoded data removed]",
      "text/plain": [
       "<matplotlib.figure.Figure at 0x1a0639d1c18>"
      ]
     },
     "metadata": {},
     "output_type": "display_data"
    }
   ],
   "source": [
    "# Your code here\n",
    "\n",
    "import seaborn as sns\n",
    "\n",
    "# group by carrier, create new data frames for total flights and total delayed flights\n",
    "df_by_carrier = flights_df.loc[:,[\"carrier\",\"dep_delay\"]].groupby('carrier').count()\n",
    "df_by_carrier.rename(columns={'dep_delay': 'Total_Flights'}, inplace=True)\n",
    "df_by_carrier_del = flights_df.loc[:,[\"carrier\",\"dep_delay\"]][flights_df[\"dep_delay\"]>0].groupby('carrier').count()\n",
    "df_by_carrier_del.rename(columns={'dep_delay': 'Total_Delayed_Flights'}, inplace=True)\n",
    "\n",
    "# Join carrier dataframe and delay dataframes. \n",
    "df_join=df_by_carrier.join(df_by_carrier_del,how='left')\n",
    "df_join[\"Percent_Delayed\"] = round(100*df_join[\"Total_Delayed_Flights\"].div(df_join[\"Total_Flights\"]),2)\n",
    "p1=df_join.Percent_Delayed.plot(kind='bar', title=\"Flights Delayed By carrier\",color=\"blue\")\n",
    "p1.set_ylabel('% of Flights Delayed')\n",
    "df_join['carrier']=df_join.index\n",
    "\n",
    "#Plot the results in bar plot and scatter plot\n",
    "sns.lmplot(x='Total_Flights', y='Percent_Delayed', data=df_join, fit_reg=False, hue='carrier', legend=False)\n",
    "plt.xlabel(\"carrier\")\n",
    "plt.legend(bbox_to_anchor=(1.05,1), loc=2, borderaxespad=0.)\n",
    "plt.plot([0,60000], [20,55], linewidth=1)"
   ]
  },
  {
   "cell_type": "markdown",
   "metadata": {},
   "source": [
    " -- Enter your discussion here --\n",
    " \n",
    " Research question -  \n",
    " \n",
    " #### Which are the worst performing airlines operating out of NYC (airlines with highest percentage of flight delays)? Does number of flights operated by the airlines have a correlation with this delay? \n",
    " \n",
    " #### Answer - \n",
    " \n",
    "1. Referring to visualization 1 - bar chart - \n",
    " \n",
    " F9, FL and WN are the airlines with highest amount of delays (worst performing). This may not directly relate to airline efficiency as there are many factors that contribute to delays (priority, amount of fees that airlines pay etc). \n",
    " \n",
    " \n",
    "2. The second visualization is a scatter plot that indicates relation between total flights that the airlines operate on x-axis (vs) percetage of flight delays on y-axis. The 45 degree line is provided for reference. The airlines that are to the left of the line indicate airlines that operate lower number of flights, yet have significant delays. The airlines on the right of the line operate much higher number of flights. Yet they experience smaller amounts of delays than the ones on left. \n",
    " \n",
    " "
   ]
  },
  {
   "cell_type": "markdown",
   "metadata": {},
   "source": [
    "## Question 6\n",
    "What weather conditions are associated with flight delays leaving NYC? Use graphics to explore."
   ]
  },
  {
   "cell_type": "code",
   "execution_count": 80,
   "metadata": {},
   "outputs": [
    {
     "data": {
      "text/plain": [
       "<matplotlib.axes._subplots.AxesSubplot at 0x1a065ffe128>"
      ]
     },
     "execution_count": 80,
     "metadata": {},
     "output_type": "execute_result"
    },
    {
     "data": {
      "image/png": "[encoded data removed]",
      "text/plain": [
       "<matplotlib.figure.Figure at 0x1a066028630>"
      ]
     },
     "metadata": {},
     "output_type": "display_data"
    }
   ],
   "source": [
    "# Your code here\n",
    "# create data frame for delayed flights\n",
    "df_delayed = flights_df[flights_df[\"dep_delay\"]>0]\n",
    "df_delayed = df_delayed.loc[:,[\"origin\",\"year\",\"month\",\"day\",\"hour\", \"dep_delay\"]].groupby([\"origin\",\"year\",\"month\",\"day\",\"hour\"]).count().reset_index()\n",
    "df_delayed.rename(columns={'dep_delay': 'Total_Delayed_Flights'}, inplace=True)\n",
    "\n",
    "# read weather file, create a dataframe. \n",
    "weather_df = pd.read_csv(\"weather.csv\")\n",
    "df_join_wthr = pd.merge(df_delayed,weather_df)\n",
    "\n",
    "# Join two dataframes\n",
    "df_join_wthr\n",
    "df_join_temp = df_join_wthr.loc[:,[\"Total_Delayed_Flights\",\"temp\"]]\n",
    "corr = df_join_wthr.corr()\n",
    "\n",
    "# Plot a heat map\n",
    "sns.heatmap(corr, mask=np.zeros_like(corr, dtype=np.bool), cmap=sns.diverging_palette(220, 10, as_cmap=True),\n",
    "            square=True)"
   ]
  },
  {
   "cell_type": "markdown",
   "metadata": {},
   "source": [
    "-- Enter your interpretation here --\n",
    "\n",
    "Above heat map rtepresents effect of weather parameters on the flight delays. \n",
    "\n",
    "The boxes corresponding to Flight Delays variable are the correlation with other variables. Darker RED shade represents a positive correlation while darker BLUE shade represents negative correlation.\n",
    "\n",
    "It can be seen that Temperature, Windspeed and Windgust have a positive correlation with flight delays whereas visibility, pressure and humidity have a negative correlation with flight delays."
   ]
  },
  {
   "cell_type": "code",
   "execution_count": null,
   "metadata": {
    "collapsed": true
   },
   "outputs": [],
   "source": []
  }
 ],
 "metadata": {
  "kernelspec": {
   "display_name": "Python 3",
   "language": "python",
   "name": "python3"
  },
  "language_info": {
   "codemirror_mode": {
    "name": "ipython",
    "version": 3
   },
   "file_extension": ".py",
   "mimetype": "text/x-python",
   "name": "python",
   "nbconvert_exporter": "python",
   "pygments_lexer": "ipython3",
   "version": "3.6.3"
  }
 },
 "nbformat": 4,
 "nbformat_minor": 1
}
